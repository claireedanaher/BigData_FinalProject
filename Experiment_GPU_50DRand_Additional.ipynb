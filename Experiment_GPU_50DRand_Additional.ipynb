{
  "nbformat": 4,
  "nbformat_minor": 0,
  "metadata": {
    "colab": {
      "name": "Experiment_GPU_50DRand.ipynb",
      "version": "0.3.2",
      "provenance": [],
      "include_colab_link": true
    },
    "language_info": {
      "codemirror_mode": {
        "name": "ipython",
        "version": 3
      },
      "file_extension": ".py",
      "mimetype": "text/x-python",
      "name": "python",
      "nbconvert_exporter": "python",
      "pygments_lexer": "ipython3",
      "version": "3.7.0"
    },
    "kernelspec": {
      "name": "python3",
      "display_name": "Python 3"
    },
    "accelerator": "GPU"
  },
  "cells": [
    {
      "cell_type": "markdown",
      "metadata": {
        "id": "view-in-github",
        "colab_type": "text"
      },
      "source": [
        "<a href=\"https://colab.research.google.com/github/claireedanaher/BigData_FinalProject/blob/master/Experiment_GPU_50DRand_Additional.ipynb\" target=\"_parent\"><img src=\"https://colab.research.google.com/assets/colab-badge.svg\" alt=\"Open In Colab\"/></a>"
      ]
    },
    {
      "metadata": {
        "heading_collapsed": true,
        "id": "jbBuEG3fMo2H",
        "colab_type": "text"
      },
      "cell_type": "markdown",
      "source": [
        "# LIBRARIES"
      ]
    },
    {
      "metadata": {
        "hidden": true,
        "id": "_4AbUsCtMo2J",
        "colab_type": "code",
        "colab": {}
      },
      "cell_type": "code",
      "source": [
        "## import torch\n",
        "import torchvision\n",
        "import torch\n",
        "import torchvision.datasets as datasets\n",
        "import torch.nn as nn\n",
        "import matplotlib.pyplot as plt\n",
        "from mpl_toolkits.mplot3d import Axes3D\n",
        "from matplotlib import cm\n",
        "import numpy as np\n",
        "from torch.nn import functional as F\n",
        "import time\n",
        "import pandas as pd \n",
        "from random import shuffle"
      ],
      "execution_count": 0,
      "outputs": []
    },
    {
      "metadata": {
        "heading_collapsed": true,
        "id": "XVuEMSoQMo2N",
        "colab_type": "text"
      },
      "cell_type": "markdown",
      "source": [
        "# Pull in MNIST Data"
      ]
    },
    {
      "metadata": {
        "hidden": true,
        "id": "hv8rv-kaMo2N",
        "colab_type": "text"
      },
      "cell_type": "markdown",
      "source": [
        "## MNIST Data Label Generation"
      ]
    },
    {
      "metadata": {
        "hidden": true,
        "id": "dl4mPFtaMo2O",
        "colab_type": "code",
        "colab": {}
      },
      "cell_type": "code",
      "source": [
        "def gen_mnist():\n",
        "    from sklearn.datasets.base import get_data_home \n",
        "    from sklearn.datasets import fetch_mldata\n",
        "    print (get_data_home())\n",
        "    mnist_raw = fetch_mldata('MNIST original', data_home=get_data_home())\n",
        "    mnist=mnistData(mnist_raw.target,mnist_raw.data) \n",
        "    cnt=len(mnist.label)\n",
        "    labelset=torch.tensor(mnist.label)\n",
        "    labelset.shape\n",
        "    dataset=torch.tensor(mnist.x,dtype=torch.float)\n",
        "    number_columns=dataset.shape[1]\n",
        "    dataset = dataset.view(-1,number_columns).float()/256.0\n",
        "    print(dataset.shape)\n",
        "    dataset=dataset.view(cnt,28,28)\n",
        "    return(labelset, dataset)"
      ],
      "execution_count": 0,
      "outputs": []
    },
    {
      "metadata": {
        "heading_collapsed": true,
        "id": "xRi-VD2LMo2R",
        "colab_type": "text"
      },
      "cell_type": "markdown",
      "source": [
        "# Classes"
      ]
    },
    {
      "metadata": {
        "heading_collapsed": true,
        "hidden": true,
        "id": "JtaY4qG8Mo2S",
        "colab_type": "text"
      },
      "cell_type": "markdown",
      "source": [
        "## Data Loaders"
      ]
    },
    {
      "metadata": {
        "hidden": true,
        "id": "qYg5BM41Mo2T",
        "colab_type": "code",
        "colab": {}
      },
      "cell_type": "code",
      "source": [
        "## CUSTOM DATA LOADER\n",
        "from torch.utils.data.dataset import Dataset\n",
        "class rgenData(Dataset):\n",
        "    def __init__(self, randEnc, x, transform=None):\n",
        "        self.randEnc= randEnc\n",
        "        self.x=x \n",
        "    def __len__(self):\n",
        "        z=self.x.shape[0]\n",
        "        return  z\n",
        "    def __getitem__(self, idx):\n",
        "        randEnc=self.randEnc[idx]\n",
        "        x=self.x[idx]\n",
        "        return randEnc, x\n",
        "\n",
        "## CUSTOM DATA LOADER\n",
        "from torch.utils.data.dataset import Dataset\n",
        "class mnistData(Dataset):\n",
        "    def __init__(self, label, x, transform=None):\n",
        "        self.label= label\n",
        "        self.x=x \n",
        "    def __len__(self):\n",
        "        z=self.x.shape[0]\n",
        "        return  z\n",
        "    def __getitem__(self, idx):\n",
        "        label=self.label[idx]\n",
        "        x=self.x[idx]\n",
        "        return x"
      ],
      "execution_count": 0,
      "outputs": []
    },
    {
      "metadata": {
        "hidden": true,
        "id": "xeXh5B20Mo2W",
        "colab_type": "text"
      },
      "cell_type": "markdown",
      "source": [
        "## 2D"
      ]
    },
    {
      "metadata": {
        "hidden": true,
        "id": "OkGFwTmrMo2X",
        "colab_type": "text"
      },
      "cell_type": "markdown",
      "source": [
        "### Decoder 1L"
      ]
    },
    {
      "metadata": {
        "hidden": true,
        "id": "iSryS2zzMo2Y",
        "colab_type": "code",
        "colab": {}
      },
      "cell_type": "code",
      "source": [
        "#############################################################################################################\n",
        "###\n",
        "# PYTORCH DOCUMENTATION EXAMPLE\n",
        "# TUTORIAL USED: #https://github.com/MorvanZhou/PyTorch-Tutorial/blob/master/tutorial-contents/404_autoencoder.py\n",
        "###\n",
        "#### HYPER PARAMS\n",
        "LR = 0.0005         # learning rate\n",
        "N_TEST_IMG = 5\n",
        "\n",
        "class Decoder_1L_2D(nn.Module):\n",
        "    def __init__(self):\n",
        "        super(Decoder_1L_2D, self).__init__()\n",
        "        ###########################\n",
        "        #What is this used for?\n",
        "        #self.map = {}\n",
        "        ###########################\n",
        "        self.fc4 = nn.Linear(2, 784)\n",
        "\n",
        "        \n",
        "    def decode(self, z):\n",
        "        out=self.fc4(z)\n",
        "        return torch.sigmoid(out)\n",
        "    \n",
        "    def forward(self, x):\n",
        "        encoded = x\n",
        "        #decoded= x\n",
        "        decoded = self.decode(encoded)\n",
        "        return encoded, decoded"
      ],
      "execution_count": 0,
      "outputs": []
    },
    {
      "metadata": {
        "hidden": true,
        "id": "cIDcZ6svMo2a",
        "colab_type": "text"
      },
      "cell_type": "markdown",
      "source": [
        "### Decoder 2L"
      ]
    },
    {
      "metadata": {
        "hidden": true,
        "id": "267ifur1Mo2b",
        "colab_type": "code",
        "colab": {}
      },
      "cell_type": "code",
      "source": [
        "#############################################################################################################\n",
        "###\n",
        "# PYTORCH DOCUMENTATION EXAMPLE\n",
        "# TUTORIAL USED: #https://github.com/MorvanZhou/PyTorch-Tutorial/blob/master/tutorial-contents/404_autoencoder.py\n",
        "###\n",
        "#### HYPER PARAMS\n",
        "LR = 0.0005         # learning rate\n",
        "N_TEST_IMG = 5\n",
        "\n",
        "class Decoder_2L_2D(nn.Module):\n",
        "    def __init__(self):\n",
        "        super(Decoder_2L_2D, self).__init__()\n",
        "        ###########################\n",
        "        #What is this used for?\n",
        "        #self.map = {}\n",
        "        ###########################\n",
        "        self.fc4 = nn.Linear(2, 100)\n",
        "        self.sig = nn.Sigmoid()\n",
        "        self.fc5 = nn.Linear(100, 784)\n",
        "\n",
        "        \n",
        "    def decode(self, z):\n",
        "        out=self.fc4(z)\n",
        "        out2=self.sig(out)\n",
        "        out3=self.fc5(out2)\n",
        "        out4=self.sig(out3)\n",
        "        return out4\n",
        "    \n",
        "    def forward(self, x):\n",
        "        encoded = x\n",
        "        #decoded= x\n",
        "        decoded = self.decode(encoded)\n",
        "        return encoded, decoded"
      ],
      "execution_count": 0,
      "outputs": []
    },
    {
      "metadata": {
        "hidden": true,
        "id": "X59HignBMo2e",
        "colab_type": "text"
      },
      "cell_type": "markdown",
      "source": [
        "### Decoder 3L"
      ]
    },
    {
      "metadata": {
        "hidden": true,
        "id": "4liNnMGhMo2f",
        "colab_type": "code",
        "colab": {}
      },
      "cell_type": "code",
      "source": [
        "###\n",
        "# PYTORCH DOCUMENTATION EXAMPLE\n",
        "# TUTORIAL USED: #https://github.com/MorvanZhou/PyTorch-Tutorial/blob/master/tutorial-contents/404_autoencoder.py\n",
        "###\n",
        "#### HYPER PARAMS\n",
        "LR = 0.0005         # learning rate\n",
        "N_TEST_IMG = 5\n",
        "\n",
        "class Decoder_3L_2D(nn.Module):\n",
        "    def __init__(self):\n",
        "        super(Decoder_3L_2D, self).__init__()\n",
        "        ###########################\n",
        "        #What is this used for?\n",
        "        #self.map = {}\n",
        "        ###########################\n",
        "        self.fc4 = nn.Linear(2, 100)\n",
        "        self.sig = nn.Sigmoid()\n",
        "        self.fc5 = nn.Linear(100, 200)\n",
        "        self.fc6 = nn.Linear(200, 784)\n",
        "\n",
        "        \n",
        "    def decode(self, z):\n",
        "        out=self.fc4(z)\n",
        "        out2=self.sig(out)\n",
        "        out3=self.fc5(out2)\n",
        "        out4=self.sig(out3)\n",
        "        out5=self.fc6(out4)\n",
        "        out6=self.sig(out5)\n",
        "        return out6\n",
        "    \n",
        "    def forward(self, x):\n",
        "        encoded = x\n",
        "        #decoded= x\n",
        "        decoded = self.decode(encoded)\n",
        "        return encoded, decoded"
      ],
      "execution_count": 0,
      "outputs": []
    },
    {
      "metadata": {
        "hidden": true,
        "id": "bWWfrnxAMo2l",
        "colab_type": "text"
      },
      "cell_type": "markdown",
      "source": [
        "### Decoder 4L"
      ]
    },
    {
      "metadata": {
        "hidden": true,
        "id": "JtKTTWDvMo2m",
        "colab_type": "code",
        "colab": {}
      },
      "cell_type": "code",
      "source": [
        "#############################################################################################################\n",
        "###\n",
        "# PYTORCH DOCUMENTATION EXAMPLE\n",
        "# TUTORIAL USED: #https://github.com/MorvanZhou/PyTorch-Tutorial/blob/master/tutorial-contents/404_autoencoder.py\n",
        "###\n",
        "#### HYPER PARAMS\n",
        "LR = 0.0005         # learning rate\n",
        "N_TEST_IMG = 5\n",
        "\n",
        "class Decoder_4L_2D(nn.Module):\n",
        "    def __init__(self):\n",
        "        super(Decoder_4L_2D, self).__init__()\n",
        "        ###########################\n",
        "        #What is this used for?\n",
        "        #self.map = {}\n",
        "        ###########################\n",
        "        self.fc4 = nn.Linear(2, 100)\n",
        "        self.sig = nn.Sigmoid()\n",
        "        self.fc5 = nn.Linear(100, 200)\n",
        "        self.fc6 = nn.Linear(200, 300)\n",
        "        self.fc7 = nn.Linear(300, 784)\n",
        "\n",
        "        \n",
        "    def decode(self, z):\n",
        "        out=self.fc4(z)\n",
        "        out2=self.sig(out)\n",
        "        out3=self.fc5(out2)\n",
        "        out4=self.sig(out3)\n",
        "        out5=self.fc6(out4)\n",
        "        out6=self.sig(out5)\n",
        "        out7=self.fc7(out6)\n",
        "        out8=self.sig(out7)\n",
        "        return out8\n",
        "    \n",
        "    def forward(self, x):\n",
        "        encoded = x\n",
        "        #decoded= x\n",
        "        decoded = self.decode(encoded)\n",
        "        return encoded, decoded"
      ],
      "execution_count": 0,
      "outputs": []
    },
    {
      "metadata": {
        "hidden": true,
        "id": "chhHCd6TMo2p",
        "colab_type": "text"
      },
      "cell_type": "markdown",
      "source": [
        "### AE_2L2D"
      ]
    },
    {
      "metadata": {
        "hidden": true,
        "id": "CVBRo9_eMo2q",
        "colab_type": "code",
        "colab": {}
      },
      "cell_type": "code",
      "source": [
        "#############################################################################################################\n",
        "###\n",
        "# PYTORCH DOCUMENTATION EXAMPLE\n",
        "# TUTORIAL USED: #https://github.com/MorvanZhou/PyTorch-Tutorial/blob/master/tutorial-contents/404_autoencoder.py\n",
        "###\n",
        "#### HYPER PARAMS\n",
        "LR = 0.0005         # learning rate\n",
        "\n",
        "class AE_2L2D(nn.Module):\n",
        "    def __init__(self):\n",
        "        super(AE_2L2D, self).__init__()\n",
        "        ###########################\n",
        "        #What is this used for?\n",
        "        #self.map = {}\n",
        "        ###########################\n",
        "        self.sig = nn.Sigmoid()\n",
        "        self.bc4 = nn.Linear(2, 100)\n",
        "        self.bc5 = nn.Linear(100, 784)\n",
        "\n",
        "\n",
        "        self.fw4 = nn.Linear(784, 100)\n",
        "        self.fw5 = nn.Linear(100, 2)\n",
        "        \n",
        "    def encode(self, z):\n",
        "        enc=self.fw4(z)\n",
        "        enc2=self.sig(enc)\n",
        "        enc3= self.fw5(enc2)\n",
        "        enc4=self.sig(enc3)   \n",
        "        return enc4\n",
        "        \n",
        "    \n",
        "    def decode(self, z):\n",
        "        out=self.bc4(z)\n",
        "        out2=self.sig(out)\n",
        "        out3=self.bc5(out2)\n",
        "        out4=self.sig(out3)\n",
        "        return out4\n",
        "    \n",
        "\n",
        "    def forward(self, x):\n",
        "        encoded = self.encode(x)\n",
        "        decoded = self.decode(encoded)\n",
        "        return encoded, decoded"
      ],
      "execution_count": 0,
      "outputs": []
    },
    {
      "metadata": {
        "hidden": true,
        "id": "5ORdV1uaMo2t",
        "colab_type": "text"
      },
      "cell_type": "markdown",
      "source": [
        "### AE 1L2D"
      ]
    },
    {
      "metadata": {
        "hidden": true,
        "id": "DwoNOB9OMo2t",
        "colab_type": "code",
        "colab": {}
      },
      "cell_type": "code",
      "source": [
        "#############################################################################################################\n",
        "###\n",
        "# PYTORCH DOCUMENTATION EXAMPLE\n",
        "# TUTORIAL USED: #https://github.com/MorvanZhou/PyTorch-Tutorial/blob/master/tutorial-contents/404_autoencoder.py\n",
        "###\n",
        "#### HYPER PARAMS\n",
        "LR = 0.0005         # learning rate\n",
        "\n",
        "class AE_1L2D(nn.Module):\n",
        "    def __init__(self):\n",
        "        super(AE_1L2D, self).__init__()\n",
        "        ###########################\n",
        "        #What is this used for?\n",
        "        #self.map = {}\n",
        "        ###########################\n",
        "        self.fw4 = nn.Linear(784, 2)\n",
        "        self.bc4 = nn.Linear(2, 784)\n",
        "        \n",
        "    def encode(self, z):\n",
        "        enc=self.fw4(z)\n",
        "        return torch.sigmoid(enc)\n",
        "        \n",
        "    \n",
        "    def decode(self, z):\n",
        "        out=self.bc4(z)\n",
        "        return torch.sigmoid(out)\n",
        "    \n",
        "\n",
        "    def forward(self, x):\n",
        "        encoded = self.encode(x)\n",
        "        decoded = self.decode(encoded)\n",
        "        return encoded, decoded"
      ],
      "execution_count": 0,
      "outputs": []
    },
    {
      "metadata": {
        "hidden": true,
        "id": "CQkVgP9DMo2w",
        "colab_type": "text"
      },
      "cell_type": "markdown",
      "source": [
        "### AE 3L2D"
      ]
    },
    {
      "metadata": {
        "hidden": true,
        "id": "U982c5clMo2w",
        "colab_type": "code",
        "colab": {}
      },
      "cell_type": "code",
      "source": [
        "#############################################################################################################\n",
        "###\n",
        "# PYTORCH DOCUMENTATION EXAMPLE\n",
        "# TUTORIAL USED: #https://github.com/MorvanZhou/PyTorch-Tutorial/blob/master/tutorial-contents/404_autoencoder.py\n",
        "###\n",
        "#### HYPER PARAMS\n",
        "LR = 0.0005         # learning rate\n",
        "\n",
        "class AE_3L2D(nn.Module):\n",
        "    def __init__(self):\n",
        "        super(AE_3L2D, self).__init__()\n",
        "        ###########################\n",
        "        #What is this used for?\n",
        "        #self.map = {}\n",
        "        ###########################\n",
        "        self.bc4 = nn.Linear(2, 100)\n",
        "        self.sig = nn.Sigmoid()\n",
        "        self.bc5 = nn.Linear(100, 200)\n",
        "        self.bc6 = nn.Linear(200, 784)\n",
        "        self.fw4 = nn.Linear(784, 200)\n",
        "        self.fw5 = nn.Linear(200, 100)\n",
        "        self.fw6 = nn.Linear(100, 2)\n",
        "        \n",
        "    def encode(self, z):\n",
        "        enc=self.fw4(z)\n",
        "        enc2=self.sig(enc)\n",
        "        enc3= self.fw5(enc2)\n",
        "        enc4=self.sig(enc3)   \n",
        "        enc5=self.fw6(enc4)   \n",
        "        enc6=self.sig(enc5)   \n",
        "        return enc6\n",
        "        \n",
        "    \n",
        "    def decode(self, z):\n",
        "        out=self.bc4(z)\n",
        "        out2=self.sig(out)\n",
        "        out3=self.bc5(out2)\n",
        "        out4=self.sig(out3)\n",
        "        out5=self.bc6(out4)\n",
        "        out6=self.sig(out5)\n",
        "        return out6\n",
        "    \n",
        "\n",
        "    def forward(self, x):\n",
        "        encoded = self.encode(x)\n",
        "        decoded = self.decode(encoded)\n",
        "        return encoded, decoded"
      ],
      "execution_count": 0,
      "outputs": []
    },
    {
      "metadata": {
        "hidden": true,
        "id": "3Kojn5crMo2z",
        "colab_type": "text"
      },
      "cell_type": "markdown",
      "source": [
        "### AE 4L2D"
      ]
    },
    {
      "metadata": {
        "hidden": true,
        "id": "oonVWwoQMo20",
        "colab_type": "code",
        "colab": {}
      },
      "cell_type": "code",
      "source": [
        "#############################################################################################################\n",
        "###\n",
        "# PYTORCH DOCUMENTATION EXAMPLE\n",
        "# TUTORIAL USED: #https://github.com/MorvanZhou/PyTorch-Tutorial/blob/master/tutorial-contents/404_autoencoder.py\n",
        "###\n",
        "#### HYPER PARAMS\n",
        "LR = 0.0005         # learning rate\n",
        "\n",
        "class AE_4L2D(nn.Module):\n",
        "    def __init__(self):\n",
        "        super(AE_4L2D, self).__init__()\n",
        "        ###########################\n",
        "        #What is this used for?\n",
        "        #self.map = {}\n",
        "        ###########################\n",
        "        self.fw4 = nn.Linear(784, 300)\n",
        "        self.fw5 = nn.Linear(300, 200)\n",
        "        self.fw6 = nn.Linear(200, 100)\n",
        "        self.fw7 = nn.Linear(100, 2)\n",
        "        self.sig = nn.Sigmoid()\n",
        "        self.bc4 = nn.Linear(2, 100)        \n",
        "        self.bc5 = nn.Linear(100, 200)\n",
        "        self.bc6 = nn.Linear(200, 300)\n",
        "        self.bc7 = nn.Linear(300, 784)\n",
        "\n",
        "\n",
        "    def encode(self, z):\n",
        "        enc=self.fw4(z)\n",
        "        enc2=self.sig(enc)\n",
        "        enc3= self.fw5(enc2)\n",
        "        enc4=self.sig(enc3) \n",
        "        enc5= self.fw6(enc4)\n",
        "        enc6=self.sig(enc5)  \n",
        "        enc7= self.fw7(enc6)\n",
        "        enc8=self.sig(enc7)  \n",
        "        return enc8\n",
        "        \n",
        "    \n",
        "    def decode(self, z):\n",
        "        out=self.bc4(z)\n",
        "        out2=self.sig(out)\n",
        "        out3= self.bc5(out2)\n",
        "        out4=self.sig(out3) \n",
        "        out5= self.bc6(out4)\n",
        "        out6=self.sig(out5)  \n",
        "        out7= self.bc7(out6)\n",
        "        out8=self.sig(out7)  \n",
        "        return out8\n",
        "    \n",
        "\n",
        "    def forward(self, x):\n",
        "        encoded = self.encode(x)\n",
        "        decoded = self.decode(encoded)\n",
        "        return encoded, decoded"
      ],
      "execution_count": 0,
      "outputs": []
    },
    {
      "metadata": {
        "hidden": true,
        "id": "-t_eyKdeMo22",
        "colab_type": "text"
      },
      "cell_type": "markdown",
      "source": [
        "## 6D"
      ]
    },
    {
      "metadata": {
        "hidden": true,
        "id": "gqVCXXjCMo23",
        "colab_type": "text"
      },
      "cell_type": "markdown",
      "source": [
        "### Decoder 1L6D"
      ]
    },
    {
      "metadata": {
        "code_folding": [],
        "hidden": true,
        "id": "j-dm4SRUMo23",
        "colab_type": "code",
        "colab": {}
      },
      "cell_type": "code",
      "source": [
        "#############################################################################################################\n",
        "###\n",
        "# PYTORCH DOCUMENTATION EXAMPLE\n",
        "# TUTORIAL USED: #https://github.com/MorvanZhou/PyTorch-Tutorial/blob/master/tutorial-contents/404_autoencoder.py\n",
        "###\n",
        "#### HYPER PARAMS\n",
        "LR = 0.0005         # learning rate\n",
        "N_TEST_IMG = 5\n",
        "\n",
        "class Decoder_1L_6D(nn.Module):\n",
        "    def __init__(self):\n",
        "        super(Decoder_1L_6D, self).__init__()\n",
        "        ###########################\n",
        "        #What is this used for?\n",
        "        #self.map = {}\n",
        "        ###########################\n",
        "        self.fc4 = nn.Linear(6, 784)\n",
        "\n",
        "        \n",
        "    def decode(self, z):\n",
        "        out=self.fc4(z)\n",
        "        return torch.sigmoid(out)\n",
        "    \n",
        "    def forward(self, x):\n",
        "        encoded = x\n",
        "        #decoded= x\n",
        "        decoded = self.decode(encoded)\n",
        "        return encoded, decoded"
      ],
      "execution_count": 0,
      "outputs": []
    },
    {
      "metadata": {
        "hidden": true,
        "id": "b8yC0ECtMo26",
        "colab_type": "text"
      },
      "cell_type": "markdown",
      "source": [
        "### Decoder 2L"
      ]
    },
    {
      "metadata": {
        "hidden": true,
        "id": "e5OhNSNKMo27",
        "colab_type": "code",
        "colab": {}
      },
      "cell_type": "code",
      "source": [
        "#############################################################################################################\n",
        "###\n",
        "# PYTORCH DOCUMENTATION EXAMPLE\n",
        "# TUTORIAL USED: #https://github.com/MorvanZhou/PyTorch-Tutorial/blob/master/tutorial-contents/404_autoencoder.py\n",
        "###\n",
        "#### HYPER PARAMS\n",
        "LR = 0.0005         # learning rate\n",
        "N_TEST_IMG = 5\n",
        "\n",
        "class Decoder_2L_6D(nn.Module):\n",
        "    def __init__(self):\n",
        "        super(Decoder_2L_6D, self).__init__()\n",
        "        ###########################\n",
        "        #What is this used for?\n",
        "        #self.map = {}\n",
        "        ###########################\n",
        "        self.fc4 = nn.Linear(6, 100)\n",
        "        self.sig = nn.Sigmoid()\n",
        "        self.fc5 = nn.Linear(100, 784)\n",
        "\n",
        "        \n",
        "    def decode(self, z):\n",
        "        out=self.fc4(z)\n",
        "        out2=self.sig(out)\n",
        "        out3=self.fc5(out2)\n",
        "        out4=self.sig(out3)\n",
        "        return out4\n",
        "    \n",
        "    def forward(self, x):\n",
        "        encoded = x\n",
        "        #decoded= x\n",
        "        decoded = self.decode(encoded)\n",
        "        return encoded, decoded"
      ],
      "execution_count": 0,
      "outputs": []
    },
    {
      "metadata": {
        "hidden": true,
        "id": "16PzOCmvMo29",
        "colab_type": "text"
      },
      "cell_type": "markdown",
      "source": [
        "### Decoder 3L6D"
      ]
    },
    {
      "metadata": {
        "hidden": true,
        "id": "rIeJhYvzMo2_",
        "colab_type": "code",
        "colab": {}
      },
      "cell_type": "code",
      "source": [
        "###\n",
        "# PYTORCH DOCUMENTATION EXAMPLE\n",
        "# TUTORIAL USED: #https://github.com/MorvanZhou/PyTorch-Tutorial/blob/master/tutorial-contents/404_autoencoder.py\n",
        "###\n",
        "#### HYPER PARAMS\n",
        "LR = 0.0005         # learning rate\n",
        "N_TEST_IMG = 5\n",
        "\n",
        "class Decoder_3L_6D(nn.Module):\n",
        "    def __init__(self):\n",
        "        super(Decoder_3L_6D, self).__init__()\n",
        "        ###########################\n",
        "        #What is this used for?\n",
        "        #self.map = {}\n",
        "        ###########################\n",
        "        self.fc4 = nn.Linear(6, 100)\n",
        "        self.sig = nn.Sigmoid()\n",
        "        self.fc5 = nn.Linear(100, 200)\n",
        "        self.fc6 = nn.Linear(200, 784)\n",
        "\n",
        "        \n",
        "    def decode(self, z):\n",
        "        out=self.fc4(z)\n",
        "        out2=self.sig(out)\n",
        "        out3=self.fc5(out2)\n",
        "        out4=self.sig(out3)\n",
        "        out5=self.fc6(out4)\n",
        "        out6=self.sig(out5)\n",
        "        return out6\n",
        "    \n",
        "    def forward(self, x):\n",
        "        encoded = x\n",
        "        #decoded= x\n",
        "        decoded = self.decode(encoded)\n",
        "        return encoded, decoded"
      ],
      "execution_count": 0,
      "outputs": []
    },
    {
      "metadata": {
        "hidden": true,
        "id": "9SI2x5ZJMo3D",
        "colab_type": "text"
      },
      "cell_type": "markdown",
      "source": [
        "### Decoder 4L"
      ]
    },
    {
      "metadata": {
        "hidden": true,
        "id": "BE5R7La8Mo3D",
        "colab_type": "code",
        "colab": {}
      },
      "cell_type": "code",
      "source": [
        "#############################################################################################################\n",
        "###\n",
        "# PYTORCH DOCUMENTATION EXAMPLE\n",
        "# TUTORIAL USED: #https://github.com/MorvanZhou/PyTorch-Tutorial/blob/master/tutorial-contents/404_autoencoder.py\n",
        "###\n",
        "#### HYPER PARAMS\n",
        "LR = 0.0005         # learning rate\n",
        "N_TEST_IMG = 5\n",
        "\n",
        "class Decoder_4L_6D(nn.Module):\n",
        "    def __init__(self):\n",
        "        super(Decoder_4L_6D, self).__init__()\n",
        "        ###########################\n",
        "        #What is this used for?\n",
        "        #self.map = {}\n",
        "        ###########################\n",
        "        self.fc4 = nn.Linear(6, 100)\n",
        "        self.sig = nn.Sigmoid()\n",
        "        self.fc5 = nn.Linear(100,200)\n",
        "        self.fc6 = nn.Linear(200, 300)\n",
        "        self.fc7 = nn.Linear(300, 784)\n",
        "\n",
        "        \n",
        "    def decode(self, z):\n",
        "        out=self.fc4(z)\n",
        "        out2=self.sig(out)\n",
        "        out3=self.fc5(out2)\n",
        "        out4=self.sig(out3)\n",
        "        out5=self.fc6(out4)\n",
        "        out6=self.sig(out5)\n",
        "        out7=self.fc7(out6)\n",
        "        out8=self.sig(out7)\n",
        "        return out8\n",
        "    \n",
        "    def forward(self, x):\n",
        "        encoded = x\n",
        "        #decoded= x\n",
        "        decoded = self.decode(encoded)\n",
        "        return encoded, decoded"
      ],
      "execution_count": 0,
      "outputs": []
    },
    {
      "metadata": {
        "hidden": true,
        "id": "g6I01pC-Mo3J",
        "colab_type": "text"
      },
      "cell_type": "markdown",
      "source": [
        "### AE_1L6D"
      ]
    },
    {
      "metadata": {
        "hidden": true,
        "id": "-dz4m84eMo3K",
        "colab_type": "code",
        "colab": {}
      },
      "cell_type": "code",
      "source": [
        "#############################################################################################################\n",
        "###\n",
        "# PYTORCH DOCUMENTATION EXAMPLE\n",
        "# TUTORIAL USED: #https://github.com/MorvanZhou/PyTorch-Tutorial/blob/master/tutorial-contents/404_autoencoder.py\n",
        "###\n",
        "#### HYPER PARAMS\n",
        "LR = 0.0005         # learning rate\n",
        "\n",
        "class AE_1L6D(nn.Module):\n",
        "    def __init__(self):\n",
        "        super(AE_1L6D, self).__init__()\n",
        "        ###########################\n",
        "        #What is this used for?\n",
        "        #self.map = {}\n",
        "        ###########################\n",
        "        self.fw4 = nn.Linear(784, 6)\n",
        "        self.bc4 = nn.Linear(6, 784)\n",
        "        \n",
        "    def encode(self, z):\n",
        "        enc=self.fw4(z)\n",
        "        return torch.sigmoid(enc)\n",
        "        \n",
        "    \n",
        "    def decode(self, z):\n",
        "        out=self.bc4(z)\n",
        "        return torch.sigmoid(out)\n",
        "    \n",
        "\n",
        "    def forward(self, x):\n",
        "        encoded = self.encode(x)\n",
        "        decoded = self.decode(encoded)\n",
        "        return encoded, decoded"
      ],
      "execution_count": 0,
      "outputs": []
    },
    {
      "metadata": {
        "hidden": true,
        "id": "qsP0oCrOMo3N",
        "colab_type": "text"
      },
      "cell_type": "markdown",
      "source": [
        "### AE_2L6d"
      ]
    },
    {
      "metadata": {
        "hidden": true,
        "id": "0Md3szjRMo3N",
        "colab_type": "code",
        "colab": {}
      },
      "cell_type": "code",
      "source": [
        "#############################################################################################################\n",
        "###\n",
        "# PYTORCH DOCUMENTATION EXAMPLE\n",
        "# TUTORIAL USED: #https://github.com/MorvanZhou/PyTorch-Tutorial/blob/master/tutorial-contents/404_autoencoder.py\n",
        "###\n",
        "#### HYPER PARAMS\n",
        "LR = 0.0005         # learning rate\n",
        "\n",
        "class AE_2L6D(nn.Module):\n",
        "    def __init__(self):\n",
        "        super(AE_2L6D, self).__init__()\n",
        "        ###########################\n",
        "        #What is this used for?\n",
        "        #self.map = {}\n",
        "        ###########################\n",
        "        self.bc4 = nn.Linear(6, 100)\n",
        "        self.sig = nn.Sigmoid()\n",
        "        self.bc5 = nn.Linear(100, 784)\n",
        "        self.fw4 = nn.Linear(784, 100)\n",
        "        self.fw5 = nn.Linear(100, 6)\n",
        "        \n",
        "    def encode(self, z):\n",
        "        enc=self.fw4(z)\n",
        "        enc2=self.sig(enc)\n",
        "        enc3= self.fw5(enc2)\n",
        "        enc4=self.sig(enc3)   \n",
        "        return enc4\n",
        "        \n",
        "    \n",
        "    def decode(self, z):\n",
        "        out=self.bc4(z)\n",
        "        out2=self.sig(out)\n",
        "        out3=self.bc5(out2)\n",
        "        out4=self.sig(out3)\n",
        "        return out4\n",
        "    \n",
        "\n",
        "    def forward(self, x):\n",
        "        encoded = self.encode(x)\n",
        "        decoded = self.decode(encoded)\n",
        "        return encoded, decoded\n",
        "### INITALIZE MODEL PARAMS\n",
        "model_AE2 =  AE_2L2D()\n",
        "optimizer = torch.optim.Adam(model_AE2.parameters(), lr=LR)"
      ],
      "execution_count": 0,
      "outputs": []
    },
    {
      "metadata": {
        "hidden": true,
        "id": "bjsVEcb5Mo3Q",
        "colab_type": "text"
      },
      "cell_type": "markdown",
      "source": [
        "### 3L6D AE"
      ]
    },
    {
      "metadata": {
        "hidden": true,
        "id": "_kJKVMxsMo3R",
        "colab_type": "code",
        "colab": {}
      },
      "cell_type": "code",
      "source": [
        "#############################################################################################################\n",
        "###\n",
        "# PYTORCH DOCUMENTATION EXAMPLE\n",
        "# TUTORIAL USED: #https://github.com/MorvanZhou/PyTorch-Tutorial/blob/master/tutorial-contents/404_autoencoder.py\n",
        "###\n",
        "#### HYPER PARAMS\n",
        "LR = 0.0005         # learning rate\n",
        "\n",
        "class AE_3L6D(nn.Module):\n",
        "    def __init__(self):\n",
        "        super(AE_3L6D, self).__init__()\n",
        "        ###########################\n",
        "        #What is this used for?\n",
        "        #self.map = {}\n",
        "        ###########################\n",
        "        self.bc4 = nn.Linear(6, 100)\n",
        "        self.sig = nn.Sigmoid()\n",
        "        self.bc5 = nn.Linear(100, 200)\n",
        "        self.bc6 = nn.Linear(200, 784)\n",
        "        self.fw4 = nn.Linear(784, 200)\n",
        "        self.fw5 = nn.Linear(200, 100)\n",
        "        self.fw6 = nn.Linear(100, 6)\n",
        "        \n",
        "    def encode(self, z):\n",
        "        enc=self.fw4(z)\n",
        "        enc2=self.sig(enc)\n",
        "        enc3= self.fw5(enc2)\n",
        "        enc4=self.sig(enc3)   \n",
        "        enc5=self.fw6(enc4)   \n",
        "        enc6=self.sig(enc5)   \n",
        "        return enc6\n",
        "        \n",
        "    \n",
        "    def decode(self, z):\n",
        "        out=self.bc4(z)\n",
        "        out2=self.sig(out)\n",
        "        out3=self.bc5(out2)\n",
        "        out4=self.sig(out3)\n",
        "        out5=self.bc6(out4)\n",
        "        out6=self.sig(out5)\n",
        "        return out6\n",
        "    \n",
        "\n",
        "    def forward(self, x):\n",
        "        encoded = self.encode(x)\n",
        "        decoded = self.decode(encoded)\n",
        "        return encoded, decoded"
      ],
      "execution_count": 0,
      "outputs": []
    },
    {
      "metadata": {
        "hidden": true,
        "id": "eQ1EuTL_Mo3U",
        "colab_type": "text"
      },
      "cell_type": "markdown",
      "source": [
        "### AE 4L6D"
      ]
    },
    {
      "metadata": {
        "hidden": true,
        "id": "yVyBT3fSMo3V",
        "colab_type": "code",
        "colab": {}
      },
      "cell_type": "code",
      "source": [
        "#############################################################################################################\n",
        "###\n",
        "# PYTORCH DOCUMENTATION EXAMPLE\n",
        "# TUTORIAL USED: #https://github.com/MorvanZhou/PyTorch-Tutorial/blob/master/tutorial-contents/404_autoencoder.py\n",
        "###\n",
        "#### HYPER PARAMS\n",
        "LR = 0.0005         # learning rate\n",
        "\n",
        "class AE_4L6D(nn.Module):\n",
        "    def __init__(self):\n",
        "        super(AE_4L6D, self).__init__()\n",
        "        ###########################\n",
        "        #What is this used for?\n",
        "        #self.map = {}\n",
        "        ###########################\n",
        "        self.fw4 = nn.Linear(784, 300)\n",
        "        self.fw5 = nn.Linear(300, 200)\n",
        "        self.fw6 = nn.Linear(200, 100)\n",
        "        self.fw7 = nn.Linear(100, 6)\n",
        "        self.sig = nn.Sigmoid()\n",
        "        self.bc4 = nn.Linear(6, 100)        \n",
        "        self.bc5 = nn.Linear(100, 200)\n",
        "        self.bc6 = nn.Linear(200, 300)\n",
        "        self.bc7 = nn.Linear(300, 784)\n",
        "\n",
        "\n",
        "    def encode(self, z):\n",
        "        enc=self.fw4(z)\n",
        "        enc2=self.sig(enc)\n",
        "        enc3= self.fw5(enc2)\n",
        "        enc4=self.sig(enc3) \n",
        "        enc5= self.fw6(enc4)\n",
        "        enc6=self.sig(enc5)  \n",
        "        enc7= self.fw7(enc6)\n",
        "        enc8=self.sig(enc7)  \n",
        "        return enc8\n",
        "        \n",
        "    \n",
        "    def decode(self, z):\n",
        "        out=self.bc4(z)\n",
        "        out2=self.sig(out)\n",
        "        out3= self.bc5(out2)\n",
        "        out4=self.sig(out3) \n",
        "        out5= self.bc6(out4)\n",
        "        out6=self.sig(out5)  \n",
        "        out7= self.bc7(out6)\n",
        "        out8=self.sig(out7)  \n",
        "        return out8\n",
        "    \n",
        "\n",
        "    def forward(self, x):\n",
        "        encoded = self.encode(x)\n",
        "        decoded = self.decode(encoded)\n",
        "        return encoded, decoded"
      ],
      "execution_count": 0,
      "outputs": []
    },
    {
      "metadata": {
        "hidden": true,
        "id": "2qhBgO3LMo3X",
        "colab_type": "text"
      },
      "cell_type": "markdown",
      "source": [
        "## 50 D"
      ]
    },
    {
      "metadata": {
        "hidden": true,
        "id": "-55FcPgWMo3Y",
        "colab_type": "text"
      },
      "cell_type": "markdown",
      "source": [
        "### Decoder 1L50D"
      ]
    },
    {
      "metadata": {
        "code_folding": [],
        "hidden": true,
        "id": "F3A8e3twMo3Y",
        "colab_type": "code",
        "colab": {}
      },
      "cell_type": "code",
      "source": [
        "#############################################################################################################\n",
        "###\n",
        "# PYTORCH DOCUMENTATION EXAMPLE\n",
        "# TUTORIAL USED: #https://github.com/MorvanZhou/PyTorch-Tutorial/blob/master/tutorial-contents/404_autoencoder.py\n",
        "###\n",
        "#### HYPER PARAMS\n",
        "LR = 0.0005         # learning rate\n",
        "N_TEST_IMG = 5\n",
        "\n",
        "class Decoder_1L_50D(nn.Module):\n",
        "    def __init__(self):\n",
        "        super(Decoder_1L_50D, self).__init__()\n",
        "        ###########################\n",
        "        #What is this used for?\n",
        "        #self.map = {}\n",
        "        ###########################\n",
        "        self.fc4 = nn.Linear(50, 784)\n",
        "\n",
        "        \n",
        "    def decode(self, z):\n",
        "        out=self.fc4(z)\n",
        "        return torch.sigmoid(out)\n",
        "    \n",
        "    def forward(self, x):\n",
        "        encoded = x\n",
        "        #decoded= x\n",
        "        decoded = self.decode(encoded)\n",
        "        return encoded, decoded\n"
      ],
      "execution_count": 0,
      "outputs": []
    },
    {
      "metadata": {
        "hidden": true,
        "id": "wpq1NUaeMo3a",
        "colab_type": "text"
      },
      "cell_type": "markdown",
      "source": [
        "### Decoder 2L"
      ]
    },
    {
      "metadata": {
        "hidden": true,
        "id": "V9TwZVhrMo3b",
        "colab_type": "code",
        "colab": {}
      },
      "cell_type": "code",
      "source": [
        "#############################################################################################################\n",
        "###\n",
        "# PYTORCH DOCUMENTATION EXAMPLE\n",
        "# TUTORIAL USED: #https://github.com/MorvanZhou/PyTorch-Tutorial/blob/master/tutorial-contents/404_autoencoder.py\n",
        "###\n",
        "#### HYPER PARAMS\n",
        "LR = 0.0005         # learning rate\n",
        "N_TEST_IMG = 5\n",
        "\n",
        "class Decoder_2L_50D(nn.Module):\n",
        "    def __init__(self):\n",
        "        super(Decoder_2L_50D, self).__init__()\n",
        "        ###########################\n",
        "        #What is this used for?\n",
        "        #self.map = {}\n",
        "        ###########################\n",
        "        self.fc4 = nn.Linear(50, 100)\n",
        "        self.sig = nn.Sigmoid()\n",
        "        self.fc5 = nn.Linear(100, 784)\n",
        "\n",
        "        \n",
        "    def decode(self, z):\n",
        "        out=self.fc4(z)\n",
        "        out2=self.sig(out)\n",
        "        out3=self.fc5(out2)\n",
        "        out4=self.sig(out3)\n",
        "        return out4\n",
        "    \n",
        "    def forward(self, x):\n",
        "        encoded = x\n",
        "        #decoded= x\n",
        "        decoded = self.decode(encoded)\n",
        "        return encoded, decoded"
      ],
      "execution_count": 0,
      "outputs": []
    },
    {
      "metadata": {
        "hidden": true,
        "id": "E2hy4UI0Mo3e",
        "colab_type": "text"
      },
      "cell_type": "markdown",
      "source": [
        "### Decoder 3L50D"
      ]
    },
    {
      "metadata": {
        "hidden": true,
        "id": "7UMxoCL9Mo3e",
        "colab_type": "code",
        "colab": {}
      },
      "cell_type": "code",
      "source": [
        "###\n",
        "# PYTORCH DOCUMENTATION EXAMPLE\n",
        "# TUTORIAL USED: #https://github.com/MorvanZhou/PyTorch-Tutorial/blob/master/tutorial-contents/404_autoencoder.py\n",
        "###\n",
        "#### HYPER PARAMS\n",
        "LR = 0.0005         # learning rate\n",
        "N_TEST_IMG = 5\n",
        "\n",
        "class Decoder_3L_50D(nn.Module):\n",
        "    def __init__(self):\n",
        "        super(Decoder_3L_50D, self).__init__()\n",
        "        ###########################\n",
        "        #What is this used for?\n",
        "        #self.map = {}\n",
        "        ###########################\n",
        "        self.fc4 = nn.Linear(50, 100)\n",
        "        self.sig = nn.Sigmoid()\n",
        "        self.fc5 = nn.Linear(100, 200)\n",
        "        self.fc6 = nn.Linear(200, 784)\n",
        "\n",
        "        \n",
        "    def decode(self, z):\n",
        "        out=self.fc4(z)\n",
        "        out2=self.sig(out)\n",
        "        out3=self.fc5(out2)\n",
        "        out4=self.sig(out3)\n",
        "        out5=self.fc6(out4)\n",
        "        out6=self.sig(out5)\n",
        "        return out6\n",
        "    \n",
        "    def forward(self, x):\n",
        "        encoded = x\n",
        "        #decoded= x\n",
        "        decoded = self.decode(encoded)\n",
        "        return encoded, decoded"
      ],
      "execution_count": 0,
      "outputs": []
    },
    {
      "metadata": {
        "hidden": true,
        "id": "qioORlUpMo3h",
        "colab_type": "text"
      },
      "cell_type": "markdown",
      "source": [
        "### Decoder 4L"
      ]
    },
    {
      "metadata": {
        "hidden": true,
        "id": "UXLHvJQYMo3i",
        "colab_type": "code",
        "colab": {}
      },
      "cell_type": "code",
      "source": [
        "#############################################################################################################\n",
        "###\n",
        "# PYTORCH DOCUMENTATION EXAMPLE\n",
        "# TUTORIAL USED: #https://github.com/MorvanZhou/PyTorch-Tutorial/blob/master/tutorial-contents/404_autoencoder.py\n",
        "###\n",
        "#### HYPER PARAMS\n",
        "LR = 0.0005         # learning rate\n",
        "N_TEST_IMG = 5\n",
        "\n",
        "class Decoder_4L_50D(nn.Module):\n",
        "    def __init__(self):\n",
        "        super(Decoder_4L_50D, self).__init__()\n",
        "        ###########################\n",
        "        #What is this used for?\n",
        "        #self.map = {}\n",
        "        ###########################\n",
        "        self.fc4 = nn.Linear(50, 100)\n",
        "        self.sig = nn.Sigmoid()\n",
        "        self.fc5 = nn.Linear(100,200)\n",
        "        self.fc6 = nn.Linear(200, 300)\n",
        "        self.fc7 = nn.Linear(300, 784)\n",
        "\n",
        "        \n",
        "    def decode(self, z):\n",
        "        out=self.fc4(z)\n",
        "        out2=self.sig(out)\n",
        "        out3=self.fc5(out2)\n",
        "        out4=self.sig(out3)\n",
        "        out5=self.fc6(out4)\n",
        "        out6=self.sig(out5)\n",
        "        out7=self.fc7(out6)\n",
        "        out8=self.sig(out7)\n",
        "        return out8\n",
        "    \n",
        "    def forward(self, x):\n",
        "        encoded = x\n",
        "        #decoded= x\n",
        "        decoded = self.decode(encoded)\n",
        "        return encoded, decoded"
      ],
      "execution_count": 0,
      "outputs": []
    },
    {
      "metadata": {
        "hidden": true,
        "id": "X2Wyof9wMo3k",
        "colab_type": "text"
      },
      "cell_type": "markdown",
      "source": [
        "### 3L50D AE"
      ]
    },
    {
      "metadata": {
        "hidden": true,
        "id": "mWqkdWioMo3l",
        "colab_type": "code",
        "colab": {}
      },
      "cell_type": "code",
      "source": [
        "#############################################################################################################\n",
        "###\n",
        "# PYTORCH DOCUMENTATION EXAMPLE\n",
        "# TUTORIAL USED: #https://github.com/MorvanZhou/PyTorch-Tutorial/blob/master/tutorial-contents/404_autoencoder.py\n",
        "###\n",
        "#### HYPER PARAMS\n",
        "LR = 0.0005         # learning rate\n",
        "\n",
        "class AE_3L50D(nn.Module):\n",
        "    def __init__(self):\n",
        "        super(AE_3L50D, self).__init__()\n",
        "        ###########################\n",
        "        #What is this used for?\n",
        "        #self.map = {}\n",
        "        ###########################\n",
        "        self.bc4 = nn.Linear(50, 100)\n",
        "        self.sig = nn.Sigmoid()\n",
        "        self.bc5 = nn.Linear(100, 200)\n",
        "        self.bc6 = nn.Linear(200, 784)\n",
        "        self.fw4 = nn.Linear(784, 200)\n",
        "        self.fw5 = nn.Linear(200, 100)\n",
        "        self.fw6 = nn.Linear(100, 50)\n",
        "        \n",
        "    def encode(self, z):\n",
        "        enc=self.fw4(z)\n",
        "        enc2=self.sig(enc)\n",
        "        enc3= self.fw5(enc2)\n",
        "        enc4=self.sig(enc3)   \n",
        "        enc5=self.fw6(enc4)   \n",
        "        enc6=self.sig(enc5)   \n",
        "        return enc6\n",
        "        \n",
        "    \n",
        "    def decode(self, z):\n",
        "        out=self.bc4(z)\n",
        "        out2=self.sig(out)\n",
        "        out3=self.bc5(out2)\n",
        "        out4=self.sig(out3)\n",
        "        out5=self.bc6(out4)\n",
        "        out6=self.sig(out5)\n",
        "        return out6\n",
        "    \n",
        "\n",
        "    def forward(self, x):\n",
        "        encoded = self.encode(x)\n",
        "        decoded = self.decode(encoded)\n",
        "        return encoded, decoded"
      ],
      "execution_count": 0,
      "outputs": []
    },
    {
      "metadata": {
        "hidden": true,
        "id": "zAcSaC0-Mo3n",
        "colab_type": "text"
      },
      "cell_type": "markdown",
      "source": [
        "### AE_1L50D"
      ]
    },
    {
      "metadata": {
        "hidden": true,
        "id": "64EM4w_DMo3n",
        "colab_type": "code",
        "colab": {}
      },
      "cell_type": "code",
      "source": [
        "#############################################################################################################\n",
        "###\n",
        "# PYTORCH DOCUMENTATION EXAMPLE\n",
        "# TUTORIAL USED: #https://github.com/MorvanZhou/PyTorch-Tutorial/blob/master/tutorial-contents/404_autoencoder.py\n",
        "###\n",
        "#### HYPER PARAMS\n",
        "LR = 0.0005         # learning rate\n",
        "\n",
        "class AE_1L50D(nn.Module):\n",
        "    def __init__(self):\n",
        "        super(AE_1L50D, self).__init__()\n",
        "        ###########################\n",
        "        #What is this used for?\n",
        "        #self.map = {}\n",
        "        ###########################\n",
        "        self.fw4 = nn.Linear(784, 50)\n",
        "        self.bc4 = nn.Linear(50, 784)\n",
        "        \n",
        "    def encode(self, z):\n",
        "        enc=self.fw4(z)\n",
        "        return torch.sigmoid(enc)\n",
        "        \n",
        "    \n",
        "    def decode(self, z):\n",
        "        out=self.bc4(z)\n",
        "        return torch.sigmoid(out)\n",
        "    \n",
        "\n",
        "    def forward(self, x):\n",
        "        encoded = self.encode(x)\n",
        "        decoded = self.decode(encoded)\n",
        "        return encoded, decoded"
      ],
      "execution_count": 0,
      "outputs": []
    },
    {
      "metadata": {
        "hidden": true,
        "id": "GUa7zTg4Mo3q",
        "colab_type": "text"
      },
      "cell_type": "markdown",
      "source": [
        "### AE_2L50D"
      ]
    },
    {
      "metadata": {
        "hidden": true,
        "id": "qZffurkYMo3r",
        "colab_type": "code",
        "colab": {}
      },
      "cell_type": "code",
      "source": [
        "#############################################################################################################\n",
        "###\n",
        "# PYTORCH DOCUMENTATION EXAMPLE\n",
        "# TUTORIAL USED: #https://github.com/MorvanZhou/PyTorch-Tutorial/blob/master/tutorial-contents/404_autoencoder.py\n",
        "###\n",
        "#### HYPER PARAMS\n",
        "LR = 0.0005         # learning rate\n",
        "\n",
        "class AE_2L50D(nn.Module):\n",
        "    def __init__(self):\n",
        "        super(AE_2L50D, self).__init__()\n",
        "        ###########################\n",
        "        #What is this used for?\n",
        "        #self.map = {}\n",
        "        ###########################\n",
        "        self.bc4 = nn.Linear(50, 100)\n",
        "        self.sig = nn.Sigmoid()\n",
        "        self.bc5 = nn.Linear(100, 784)\n",
        "        self.fw4 = nn.Linear(784, 100)\n",
        "        self.fw5 = nn.Linear(100, 50)\n",
        "        \n",
        "    def encode(self, z):\n",
        "        enc=self.fw4(z)\n",
        "        enc2=self.sig(enc)\n",
        "        enc3= self.fw5(enc2)\n",
        "        enc4=self.sig(enc3)   \n",
        "        return enc4\n",
        "        \n",
        "    \n",
        "    def decode(self, z):\n",
        "        out=self.bc4(z)\n",
        "        out2=self.sig(out)\n",
        "        out3=self.bc5(out2)\n",
        "        out4=self.sig(out3)\n",
        "        return out4\n",
        "    \n",
        "\n",
        "    def forward(self, x):\n",
        "        encoded = self.encode(x)\n",
        "        decoded = self.decode(encoded)\n",
        "        return encoded, decoded"
      ],
      "execution_count": 0,
      "outputs": []
    },
    {
      "metadata": {
        "hidden": true,
        "id": "cnXdQOcrMo3t",
        "colab_type": "text"
      },
      "cell_type": "markdown",
      "source": [
        "### AE 4L50D"
      ]
    },
    {
      "metadata": {
        "hidden": true,
        "id": "dOWSGj68Mo3u",
        "colab_type": "code",
        "colab": {}
      },
      "cell_type": "code",
      "source": [
        "#############################################################################################################\n",
        "###\n",
        "# PYTORCH DOCUMENTATION EXAMPLE\n",
        "# TUTORIAL USED: #https://github.com/MorvanZhou/PyTorch-Tutorial/blob/master/tutorial-contents/404_autoencoder.py\n",
        "###\n",
        "#### HYPER PARAMS\n",
        "LR = 0.0005         # learning rate\n",
        "\n",
        "class AE_4L50D(nn.Module):\n",
        "    def __init__(self):\n",
        "        super(AE_4L50D, self).__init__()\n",
        "        ###########################\n",
        "        #What is this used for?\n",
        "        #self.map = {}\n",
        "        ###########################\n",
        "        self.fw4 = nn.Linear(784, 300)\n",
        "        self.fw5 = nn.Linear(300, 200)\n",
        "        self.fw6 = nn.Linear(200, 100)\n",
        "        self.fw7 = nn.Linear(100, 50)\n",
        "        self.sig = nn.Sigmoid()\n",
        "        self.bc4 = nn.Linear(50, 100)        \n",
        "        self.bc5 = nn.Linear(100, 200)\n",
        "        self.bc6 = nn.Linear(200, 300)\n",
        "        self.bc7 = nn.Linear(300, 784)\n",
        "\n",
        "\n",
        "    def encode(self, z):\n",
        "        enc=self.fw4(z)\n",
        "        enc2=self.sig(enc)\n",
        "        enc3= self.fw5(enc2)\n",
        "        enc4=self.sig(enc3) \n",
        "        enc5= self.fw6(enc4)\n",
        "        enc6=self.sig(enc5)  \n",
        "        enc7= self.fw7(enc6)\n",
        "        enc8=self.sig(enc7)  \n",
        "        return enc8\n",
        "        \n",
        "    \n",
        "    def decode(self, z):\n",
        "        out=self.bc4(z)\n",
        "        out2=self.sig(out)\n",
        "        out3= self.bc5(out2)\n",
        "        out4=self.sig(out3) \n",
        "        out5= self.bc6(out4)\n",
        "        out6=self.sig(out5)  \n",
        "        out7= self.bc7(out6)\n",
        "        out8=self.sig(out7)  \n",
        "        return out8\n",
        "    \n",
        "\n",
        "    def forward(self, x):\n",
        "        encoded = self.encode(x)\n",
        "        decoded = self.decode(encoded)\n",
        "        return encoded, decoded"
      ],
      "execution_count": 0,
      "outputs": []
    },
    {
      "metadata": {
        "heading_collapsed": true,
        "id": "BjAgd1XKMo3w",
        "colab_type": "text"
      },
      "cell_type": "markdown",
      "source": [
        "# Functions"
      ]
    },
    {
      "metadata": {
        "hidden": true,
        "id": "mH8L2lSWMo3w",
        "colab_type": "code",
        "colab": {}
      },
      "cell_type": "code",
      "source": [
        "def loss_function(recon_x, x):\n",
        "    BCE = F.binary_cross_entropy(recon_x, x, reduction='sum')\n",
        "    return(BCE)\n",
        "def decode_loader(data, batch_size):\n",
        "    perm = torch.randperm(data.size(0))\n",
        "    idx = perm[:batch_size]\n",
        "    batch=data[idx]\n",
        "    return(batch)\n",
        "def export_tensor(out_tensor,filename):\n",
        "    arr = out_tensor.data.cpu().numpy()\n",
        "    # write CSV\n",
        "    np.savetxt(filename, arr)\n",
        "def import_tensor(filename):\n",
        "    from numpy import genfromtxt\n",
        "    test = np.genfromtxt(filename)\n",
        "    import_tensor=torch.tensor(test, dtype=torch.float)\n",
        "    return(import_tensor)\n",
        "def import_saved_output(filenames,loss_filename):\n",
        "    imp_data=[]\n",
        "    for i in range(0,len(filenames)):\n",
        "        out_file='output/'+filenames[i]+'.csv'\n",
        "        test=import_tensor(out_file)\n",
        "        imp_data.append(test)\n",
        "    test_lossvec = np.genfromtxt(loss_filename)\n",
        "    return(imp_data, test_lossvec)"
      ],
      "execution_count": 0,
      "outputs": []
    },
    {
      "metadata": {
        "heading_collapsed": true,
        "id": "v81xBQ8DMo3y",
        "colab_type": "text"
      },
      "cell_type": "markdown",
      "source": [
        "# Data Generation"
      ]
    },
    {
      "metadata": {
        "hidden": true,
        "id": "TN3s7ovYMo3z",
        "colab_type": "text"
      },
      "cell_type": "markdown",
      "source": [
        "## Pull Indices and Labels"
      ]
    },
    {
      "metadata": {
        "hidden": true,
        "id": "cAV8dEN-Mo3z",
        "colab_type": "code",
        "colab": {}
      },
      "cell_type": "code",
      "source": [
        "def get_images(img_return_cnt,labels_raw, data_raw):\n",
        "    found=False\n",
        "    img_agg_cnt=np.zeros(10)\n",
        "    img_return_cnt=np.array(img_return_cnt)\n",
        "    i=0\n",
        "    labels=[]\n",
        "    indices=[]\n",
        "    while found==False and 70000>i:\n",
        "        target=labels_raw[i]\n",
        "        index=int(labels_raw[i].data)\n",
        "        if np.dot(np.subtract(img_agg_cnt, img_return_cnt),np.ones(10))==0:\n",
        "            found=True\n",
        "        else:\n",
        "            if img_agg_cnt[index] < img_return_cnt[index]:\n",
        "                img_agg_cnt[index]+=1\n",
        "                indices.append(i)\n",
        "        i+=1\n",
        "    return(indices)"
      ],
      "execution_count": 0,
      "outputs": []
    },
    {
      "metadata": {
        "hidden": true,
        "id": "24b1PqrEMo31",
        "colab_type": "text"
      },
      "cell_type": "markdown",
      "source": [
        "## Gen Random Embeddings"
      ]
    },
    {
      "metadata": {
        "hidden": true,
        "id": "XT1oDKl2Mo32",
        "colab_type": "code",
        "colab": {}
      },
      "cell_type": "code",
      "source": [
        "def gen_rand_data(img_return_cnt,labels_raw, data_raw,Rdim):\n",
        "    #num_img_type= scalar= equal to the number of image categories\n",
        "    #img_return_cnt = array = index of array is the image type and value is sample size for image type\n",
        "    #example_data = data loader data in form: batch_idx, (example_data, example_targets) \n",
        "    #max_i= data size\n",
        "    #Rdim= vector dimension for rand generation\n",
        "    #img_return_cnt = array = index of array is the image type and value is sample size for image type\n",
        "    found=False\n",
        "    img_agg_cnt=np.zeros(10)\n",
        "    img_return_cnt=np.array(img_return_cnt)\n",
        "    i=0\n",
        "    first=True\n",
        "    labels=[]\n",
        "    indices=[]\n",
        "    while found==False and 70000>i:\n",
        "        target=labels_raw[i]\n",
        "        index=int(labels_raw[i].data)\n",
        "        if np.dot(np.subtract(img_agg_cnt, img_return_cnt),np.ones(10))==0:\n",
        "            found=True\n",
        "        else:\n",
        "            if img_agg_cnt[index] < img_return_cnt[index]:\n",
        "                labels.append(target.item())\n",
        "                datum=data_raw[i].view(-1,28*28)\n",
        "                img_agg_cnt[index]+=1\n",
        "                indices.append(i)\n",
        "                if first==True:\n",
        "                    x_tensor=datum\n",
        "                    randEnc_tensor=torch.rand(1, Rdim)\n",
        "                    first=False \n",
        "                else:\n",
        "                    omega=torch.rand(1, Rdim)\n",
        "                    x_tensor=torch.cat((x_tensor,datum),0)\n",
        "                    randEnc_tensor=torch.cat((randEnc_tensor,omega),0)\n",
        "        i+=1\n",
        "    data = rgenData(randEnc_tensor, x_tensor)\n",
        "    return(data, labels, indices)"
      ],
      "execution_count": 0,
      "outputs": []
    },
    {
      "metadata": {
        "hidden": true,
        "id": "Dvb60IJgMo34",
        "colab_type": "text"
      },
      "cell_type": "markdown",
      "source": [
        "## Create RandEmbedding with Image Index"
      ]
    },
    {
      "metadata": {
        "hidden": true,
        "id": "pPuc4pzGMo35",
        "colab_type": "code",
        "colab": {}
      },
      "cell_type": "code",
      "source": [
        "def get_randenc_byindex(indices, labels_raw, data_raw,Rdim):\n",
        "    #num_img_type= scalar= equal to the number of image categories\n",
        "    #img_return_cnt = array = index of array is the image type and value is sample size for image type\n",
        "    #example_data = data loader data in form: batch_idx, (example_data, example_targets) \n",
        "    #max_i= data size\n",
        "    #Rdim= vector dimension for rand generation\n",
        "    #img_return_cnt = array = index of array is the image type and value is sample size for image type\n",
        "    i=0\n",
        "    cnt=len(indices)\n",
        "    labels=[]\n",
        "    datum=data_raw[indices[0]].view(-1,28*28)\n",
        "    x_tensor=datum\n",
        "    randEnc_tensor=torch.rand(1, Rdim)\n",
        "    labels.append(labels_raw[0])\n",
        "    for i in range(1,len(indices)):\n",
        "        index=indices[i]\n",
        "        labels.append(labels_raw[index])\n",
        "        datum=data_raw[index].view(-1,28*28)\n",
        "        omega=torch.rand(1, Rdim)\n",
        "        x_tensor=torch.cat((x_tensor,datum),0)\n",
        "        randEnc_tensor=torch.cat((randEnc_tensor,omega),0)\n",
        "    data = rgenData(randEnc_tensor, x_tensor)\n",
        "    return(data, labels)"
      ],
      "execution_count": 0,
      "outputs": []
    },
    {
      "metadata": {
        "hidden": true,
        "id": "S5RYoPCEMo37",
        "colab_type": "text"
      },
      "cell_type": "markdown",
      "source": [
        "## Gen Dataset Given Image Index & Array of Embedding"
      ]
    },
    {
      "metadata": {
        "hidden": true,
        "id": "V-Qx5mNnMo4A",
        "colab_type": "code",
        "colab": {}
      },
      "cell_type": "code",
      "source": [
        "def get_enc_img(indices,labels_raw, data_raw,embedding):\n",
        "    #num_img_type= scalar= equal to the number of image categories\n",
        "    #img_return_cnt = array = index of array is the image type and value is sample size for image type\n",
        "    #example_data = data loader data in form: batch_idx, (example_data, example_targets) \n",
        "    #max_i= data size\n",
        "    #Rdim= vector dimension for rand generation\n",
        "    #img_return_cnt = array = index of array is the image type and value is sample size for image type\n",
        "    i=0\n",
        "    cnt=len(indices)\n",
        "    labels=[]\n",
        "    datum=data_raw[indices[0]].view(-1,28*28)\n",
        "    x_tensor=datum\n",
        "    randEnc_tensor=torch.tensor(embedding[0], dtype=torch.float)\n",
        "    labels.append(labels_raw[0])\n",
        "    for i in range(1,len(indices)):\n",
        "        index=indices[i]\n",
        "        labels.append(labels_raw[index])\n",
        "        datum=data_raw[index].view(-1,28*28)\n",
        "        omega=torch.tensor(embedding[i], dtype=torch.float)\n",
        "        x_tensor=torch.cat((x_tensor,datum),0)\n",
        "        randEnc_tensor=torch.cat((randEnc_tensor,omega),0)\n",
        "    data = rgenData(randEnc_tensor, x_tensor)\n",
        "    return(data, labels)"
      ],
      "execution_count": 0,
      "outputs": []
    },
    {
      "metadata": {
        "heading_collapsed": true,
        "id": "X-bF2sUJMo4D",
        "colab_type": "text"
      },
      "cell_type": "markdown",
      "source": [
        "# Models"
      ]
    },
    {
      "metadata": {
        "hidden": true,
        "id": "BCrlt6j7Mo4E",
        "colab_type": "text"
      },
      "cell_type": "markdown",
      "source": [
        "## Train Decoder"
      ]
    },
    {
      "metadata": {
        "hidden": true,
        "id": "SHzgAsotMo4F",
        "colab_type": "code",
        "colab": {}
      },
      "cell_type": "code",
      "source": [
        "def train_decoder(epoch, data, model, optimizer,size,log_interval=10):\n",
        "    train_loss = 0\n",
        "    optimizer.zero_grad()\n",
        "    lossvec=[]\n",
        "    lossvec_cnt=[]\n",
        "    cnt=0\n",
        "    for i in range(1, epoch):\n",
        "        if i%10000==0:\n",
        "            print(i)\n",
        "        for j in range(0,size):\n",
        "            x=data.x[j]\n",
        "            randEnc=data.randEnc[j]\n",
        "            cnt+=1\n",
        "            encoded, decoded = model.forward(randEnc)\n",
        "            loss = loss_function(decoded, x)\n",
        "            loss.backward()\n",
        "            train_loss += loss.item()\n",
        "            optimizer.step()\n",
        "            '''\n",
        "            if batch_idx % log_interval == 0:\n",
        "                print('Train Epoch: {} [{}/{} ({:.0f}%)]\\tLoss: {:.6f}'.format(\n",
        "                    i, batch_idx * len(x), len(train_loader.dataset),\n",
        "                    100. * batch_idx / len(train_loader),\n",
        "                    loss.item() / len(x)))\n",
        "            '''\n",
        "        lossvec.append(train_loss / (size*i))\n",
        "        lossvec_cnt.append(i)\n",
        "        \n",
        "    return (lossvec, lossvec_cnt, model)"
      ],
      "execution_count": 0,
      "outputs": []
    },
    {
      "metadata": {
        "hidden": true,
        "id": "nGl38FWSMo4I",
        "colab_type": "text"
      },
      "cell_type": "markdown",
      "source": [
        "## Train AE"
      ]
    },
    {
      "metadata": {
        "hidden": true,
        "id": "pc24KEbMMo4K",
        "colab_type": "code",
        "colab": {}
      },
      "cell_type": "code",
      "source": [
        "def train_AE(epoch, data, model, optimizer,size,log_interval=10):\n",
        "    train_loss = 0\n",
        "    optimizer.zero_grad()\n",
        "    lossvec=[]\n",
        "    lossvec_cnt=[]\n",
        "    cnt=0\n",
        "    for i in range(1, epoch):\n",
        "        if i%10000==0:\n",
        "            print(i)\n",
        "        for j in range(0,size):\n",
        "            x=data.x[j]\n",
        "            cnt+=1\n",
        "            encoded, decoded = model.forward(x)\n",
        "            loss = loss_function(decoded, x)\n",
        "            loss.backward()\n",
        "            train_loss += loss.item()\n",
        "            optimizer.step()\n",
        "            '''\n",
        "            if batch_idx % log_interval == 0:\n",
        "                print('Train Epoch: {} [{}/{} ({:.0f}%)]\\tLoss: {:.6f}'.format(\n",
        "                    i, batch_idx * len(x), len(train_loader.dataset),\n",
        "                    100. * batch_idx / len(train_loader),\n",
        "                    loss.item() / len(x)))\n",
        "            '''\n",
        "        lossvec.append(train_loss / (size*i))\n",
        "        lossvec_cnt.append(i)\n",
        "        \n",
        "    return (lossvec, lossvec_cnt, model)"
      ],
      "execution_count": 0,
      "outputs": []
    },
    {
      "metadata": {
        "heading_collapsed": true,
        "id": "fKL5K2zRMo4N",
        "colab_type": "text"
      },
      "cell_type": "markdown",
      "source": [
        "# Plotting"
      ]
    },
    {
      "metadata": {
        "hidden": true,
        "id": "qBQmRqM9Mo4O",
        "colab_type": "code",
        "colab": {}
      },
      "cell_type": "code",
      "source": [
        "def x_xd_plot_compare(data,model,instances,ae=False): \n",
        "    rows=instances\n",
        "    cols=2\n",
        "    tot=int(instances)*cols\n",
        "    fig = plt.figure(figsize=(rows, rows))\n",
        "    plt.tight_layout() \n",
        "    # plot with various axes scales\n",
        "    loc=0\n",
        "    fig.subplots_adjust(hspace=.5)\n",
        "    case=0\n",
        "    while case<(rows):\n",
        "        # linear\n",
        "        loc+=1\n",
        "        tensor=data[case][1].view(28,28)\n",
        "        if ae==False:\n",
        "            tensor_d=model.decode(data[case][0])\n",
        "            encoded=data[case][0]\n",
        "        else:\n",
        "            encoded, tensor_d=model.forward(data[case][1])\n",
        "        Rdim=encoded.shape\n",
        "        Rdim=Rdim[0]\n",
        "        tensor_d_plt=tensor_d.view(28,28)\n",
        "        plt.subplot(rows, cols, loc).axis('off')\n",
        "        plt.imshow(tensor.cpu().detach().numpy(),cmap='gray')\n",
        "        plt.title(str(case))\n",
        "\n",
        "\n",
        "        loc+=1\n",
        "        # log\n",
        "        plt.subplot(rows, cols, loc).axis('off')\n",
        "        plt.imshow(tensor_d_plt.cpu().detach().numpy(),cmap='gray')\n",
        "        plt.title(str(case))\n",
        "\n",
        "\n",
        "        if case==0:\n",
        "            exp_tensor=data[case][1]\n",
        "            exp_tensor_d=tensor_d\n",
        "            exp_omega=encoded\n",
        "        else:\n",
        "            exp_tensor=torch.cat((exp_tensor,data[case][1]),0)\n",
        "            exp_tensor_d=torch.cat((exp_tensor_d,tensor_d),0)\n",
        "            exp_omega=torch.cat((exp_omega, encoded),0)\n",
        "        case+=1\n",
        "\n",
        "    plt.show()\n",
        "    return(exp_tensor.view(instances,784),exp_tensor_d.view(instances,784),exp_omega.view(instances,Rdim))\n"
      ],
      "execution_count": 0,
      "outputs": []
    },
    {
      "metadata": {
        "hidden": true,
        "id": "_lODnspUMo4R",
        "colab_type": "code",
        "colab": {}
      },
      "cell_type": "code",
      "source": [
        "def plot_compare(x, x_d): \n",
        "    rows=len(x)\n",
        "    cols=2\n",
        "    fig = plt.figure(figsize=(rows, rows))\n",
        "    plt.tight_layout() \n",
        "    # plot with various axes scales\n",
        "    loc=0\n",
        "    fig.subplots_adjust(hspace=.5)\n",
        "    case=0\n",
        "    while case<(rows):\n",
        "        tensor=x[case].view(28,28)      \n",
        "        tensor_d=x_d[case].view(28,28)\n",
        "        ########################################\n",
        "        loc+=1\n",
        "        plt.subplot(rows, cols, loc).axis('off')\n",
        "        plt.imshow(tensor.detach().numpy(),cmap='gray')\n",
        "        plt.title(str(case))\n",
        "\n",
        "        loc+=1\n",
        "        # log\n",
        "        plt.subplot(rows, cols, loc).axis('off')\n",
        "        plt.imshow(tensor_d.detach().numpy(),cmap='gray')\n",
        "        plt.title(str(case))\n",
        "        case+=1\n",
        "    plt.show()\n",
        "    return()"
      ],
      "execution_count": 0,
      "outputs": []
    },
    {
      "metadata": {
        "id": "hi7PraPuMzNs",
        "colab_type": "code",
        "colab": {}
      },
      "cell_type": "code",
      "source": [
        ""
      ],
      "execution_count": 0,
      "outputs": []
    },
    {
      "metadata": {
        "id": "wVKIDsQxMo4T",
        "colab_type": "text"
      },
      "cell_type": "markdown",
      "source": [
        "# Experiments"
      ]
    },
    {
      "metadata": {
        "id": "51uONXfWMo4T",
        "colab_type": "code",
        "colab": {}
      },
      "cell_type": "code",
      "source": [
        "exp_name=\"GPU_50DRand_\""
      ],
      "execution_count": 0,
      "outputs": []
    },
    {
      "metadata": {
        "id": "Hjw_FSpZMo4W",
        "colab_type": "code",
        "colab": {}
      },
      "cell_type": "code",
      "source": [
        "#labelset, dataset=gen_mnist()\n",
        "EPOCH=1000000"
      ],
      "execution_count": 0,
      "outputs": []
    },
    {
      "metadata": {
        "id": "_zlmDKvVMo4Y",
        "colab_type": "text"
      },
      "cell_type": "markdown",
      "source": [
        "## Import MNIST Data"
      ]
    },
    {
      "metadata": {
        "id": "sXku6b9AMo4a",
        "colab_type": "code",
        "colab": {
          "base_uri": "https://localhost:8080/",
          "height": 34
        },
        "outputId": "20e77362-cd90-4918-f69f-52827807ac1e"
      },
      "cell_type": "code",
      "source": [
        "print('cuda found')\n",
        "#print(torch.cuda.is_available())"
      ],
      "execution_count": 1,
      "outputs": [
        {
          "output_type": "stream",
          "text": [
            "cuda found\n"
          ],
          "name": "stdout"
        }
      ]
    },
    {
      "metadata": {
        "id": "PDUG1rPKMo4h",
        "colab_type": "code",
        "colab": {}
      },
      "cell_type": "code",
      "source": [
        "from sklearn.datasets import fetch_openml\n",
        "from sklearn.model_selection import train_test_split\n",
        "import numpy as np\n",
        "\n",
        "mnist = fetch_openml('mnist_784', cache=False)\n",
        "mnist.data.shape\n",
        "\n",
        "import_file = mnist.target.astype('float32')\n",
        "\n",
        "#import_file = np.genfromtxt('mnist_labelset.txt')\n",
        "labelset=torch.tensor(import_file).cuda()\n",
        "#labelset=torch.tensor(import_file)\n",
        "#pd_dataset=pd.read_csv(\"mnist_dataset.csv\")\n",
        "np_dataset=mnist.data.astype('float32')\n",
        "dataset_test=np_dataset.reshape(70000,28,28)\n",
        "dataset=torch.tensor(dataset_test,dtype=torch.float).cuda()\n",
        "#dataset=torch.tensor(dataset_test,dtype=torch.float\n"
      ],
      "execution_count": 0,
      "outputs": []
    },
    {
      "metadata": {
        "id": "C5RFn6x8Mo4l",
        "colab_type": "text"
      },
      "cell_type": "markdown",
      "source": [
        "### Ref code for pulling images"
      ]
    },
    {
      "metadata": {
        "id": "LyW28btBMo4l",
        "colab_type": "text"
      },
      "cell_type": "markdown",
      "source": [
        "## Gen Data by Dime"
      ]
    },
    {
      "metadata": {
        "id": "CZ6oy24UMo4m",
        "colab_type": "code",
        "colab": {},
        "outputId": "0c8c307f-8fc9-4463-8735-e1028073d423"
      },
      "cell_type": "code",
      "source": [
        "# Pull Rnadom Encodings for Certain Image Types\n",
        "'''\n",
        "img_return_cnt=np.zeros(10)\n",
        "img_return_cnt[0]=2\n",
        "img_return_cnt[1]=2\n",
        "img_return_cnt[2]=2\n",
        "img_return_cnt[3]=2\n",
        "img_return_cnt[4]=2\n",
        "img_return_cnt[5]=2\n",
        "img_return_cnt[6]=1\n",
        "img_return_cnt[7]=1\n",
        "img_return_cnt[8]=1\n",
        "img_return_cnt[9]=1\n",
        "rdim=2\n",
        "batch_size=4\n",
        "\n",
        "indices=get_images(img_return_cnt,labelset, dataset)\n",
        "ind_shuffle=indices[:]\n",
        "shuffle(ind_shuffle)\n",
        "print(ind_shuffle)\n",
        "data, labels=get_randenc_byindex(ind_shuffle, labelset, dataset,rdim)\n",
        "'''"
      ],
      "execution_count": 0,
      "outputs": [
        {
          "output_type": "execute_result",
          "data": {
            "text/plain": [
              "'\\nimg_return_cnt=np.zeros(10)\\nimg_return_cnt[0]=2\\nimg_return_cnt[1]=2\\nimg_return_cnt[2]=2\\nimg_return_cnt[3]=2\\nimg_return_cnt[4]=2\\nimg_return_cnt[5]=2\\nimg_return_cnt[6]=1\\nimg_return_cnt[7]=1\\nimg_return_cnt[8]=1\\nimg_return_cnt[9]=1\\nrdim=2\\nbatch_size=4\\n\\nindices=get_images(img_return_cnt,labelset, dataset)\\nind_shuffle=indices[:]\\nshuffle(ind_shuffle)\\nprint(ind_shuffle)\\ndata, labels=get_randenc_byindex(ind_shuffle, labelset, dataset,rdim)\\n'"
            ]
          },
          "metadata": {
            "tags": []
          },
          "execution_count": 233
        }
      ]
    },
    {
      "metadata": {
        "id": "_5zrNG0pMo4r",
        "colab_type": "code",
        "colab": {}
      },
      "cell_type": "code",
      "source": [
        "# Pull Random Encodings and Random Images"
      ],
      "execution_count": 0,
      "outputs": []
    },
    {
      "metadata": {
        "id": "lG_8QRxUMo4s",
        "colab_type": "code",
        "colab": {}
      },
      "cell_type": "code",
      "source": [
        "rdim=50\n",
        "batch_size=4\n",
        "ind_shuffle=[24755, 48200, 1, 18624, 0, 24754, 12666, 30596, 54051, 30597, 5924, 18623, 41935, 12665, 36017, 5923]\n",
        "data, labels=get_randenc_byindex(ind_shuffle, labelset, dataset,rdim)"
      ],
      "execution_count": 0,
      "outputs": []
    },
    {
      "metadata": {
        "id": "VkdhoG0bMo4u",
        "colab_type": "code",
        "colab": {},
        "outputId": "f83112d3-d4df-4dbd-d5ca-87e38b9a2c03"
      },
      "cell_type": "code",
      "source": [
        "# Pull Images to go with ETF\n",
        "'''\n",
        "embedding=np.matrix([[1, -1, 1, -1, 1, -1, 1, -1, 1, -1, 1, -1, 1, -1, 1, -1],\n",
        "[1, 1, -1, -1, 1, 1, -1, -1, 1, 1, -1, -1, 1, 1, -1, -1],\n",
        "[1, -1, -1, 1, 1, -1, -1, 1, 1, -1, -1, 1, 1, -1, -1, 1],\n",
        "[1, -1, 1, -1, -1, 1, -1, 1, 1, -1, 1, -1, -1, 1, -1, 1],\n",
        "[1, 1, -1, -1, 1, 1, -1, -1, -1, -1, 1, 1, -1, -1, 1, 1],\n",
        "[1, -1, -1, -1,-1, 1, 1, -1, -1, 1, 1, -1, 1, -1, -1, 1]])\n",
        "embedding=embedding.transpose()\n",
        "\n",
        "ind_shuffle=indices[:]\n",
        "\n",
        "data, labels=get_enc_img(ind_shuffle,labelset, dataset,embedding)\n",
        "'''\n"
      ],
      "execution_count": 0,
      "outputs": [
        {
          "output_type": "execute_result",
          "data": {
            "text/plain": [
              "'\\nembedding=np.matrix([[1, -1, 1, -1, 1, -1, 1, -1, 1, -1, 1, -1, 1, -1, 1, -1],\\n[1, 1, -1, -1, 1, 1, -1, -1, 1, 1, -1, -1, 1, 1, -1, -1],\\n[1, -1, -1, 1, 1, -1, -1, 1, 1, -1, -1, 1, 1, -1, -1, 1],\\n[1, -1, 1, -1, -1, 1, -1, 1, 1, -1, 1, -1, -1, 1, -1, 1],\\n[1, 1, -1, -1, 1, 1, -1, -1, -1, -1, 1, 1, -1, -1, 1, 1],\\n[1, -1, -1, -1,-1, 1, 1, -1, -1, 1, 1, -1, 1, -1, -1, 1]])\\nembedding=embedding.transpose()\\n\\nind_shuffle=indices[:]\\n\\ndata, labels=get_enc_img(ind_shuffle,labelset, dataset,embedding)\\n'"
            ]
          },
          "metadata": {
            "tags": []
          },
          "execution_count": 236
        }
      ]
    },
    {
      "metadata": {
        "id": "VvN5yJ4GMo4z",
        "colab_type": "text"
      },
      "cell_type": "markdown",
      "source": [
        "# Experiment"
      ]
    },
    {
      "metadata": {
        "id": "hw8MICFgMo40",
        "colab_type": "text"
      },
      "cell_type": "markdown",
      "source": [
        "### Run Code"
      ]
    },
    {
      "metadata": {
        "id": "2WjYl3yNMo41",
        "colab_type": "code",
        "colab": {}
      },
      "cell_type": "code",
      "source": [
        "expnum='1'\n",
        "model_in =   Decoder_1L_50D().cuda()\n",
        "#model_in =   AE_1L50D()\n",
        "print('model loaded as cuda')\n",
        "print(model_in.parameters())\n",
        "optimizer = torch.optim.Adam(model_in.parameters(), lr=LR)\n",
        "train_loss = 0\n",
        "optimizer.zero_grad()\n"
      ],
      "execution_count": 0,
      "outputs": []
    },
    {
      "metadata": {
        "code_folding": [],
        "scrolled": true,
        "id": "2Fxn3Kf6Mo45",
        "colab_type": "code",
        "colab": {},
        "outputId": "afc30f3c-a355-4f3f-f930-30753e8ae3b7"
      },
      "cell_type": "code",
      "source": [
        "size=len(labels)\n",
        "start_time = time.time()\n",
        "lossvec, lossvec_cnt, model=train_decoder(EPOCH,data,model_in, optimizer,size) \n",
        "print('--- train mins %---')\n",
        "print((time.time() - start_time)/60)\n",
        "######################################\n",
        "\n",
        "###############################################################################################################################\n",
        "## UPDATE\n",
        "print(exp_name)\n",
        "tensor, tensor_d, omega=x_xd_plot_compare(data,model,size)\n"
      ],
      "execution_count": 0,
      "outputs": [
        {
          "output_type": "stream",
          "text": [
            "--- train mins %---\n",
            "3.325939178466797e-05\n",
            "AE2D_100K\n"
          ],
          "name": "stdout"
        },
        {
          "output_type": "display_data",
          "data": {
            "image/png": "[encoded data removed]",
            "text/plain": [
              "<Figure size 1152x1152 with 32 Axes>"
            ]
          },
          "metadata": {
            "tags": [],
            "needs_background": "light"
          }
        }
      ]
    },
    {
      "metadata": {
        "id": "Pf7Hq5QfMo4-",
        "colab_type": "code",
        "colab": {}
      },
      "cell_type": "code",
      "source": [
        "# Print model's state_dict\n",
        "print(\"Model's state_dict:\")\n",
        "for param_tensor in model_in.state_dict():\n",
        "    print(param_tensor, \"\\t\", model.state_dict()[param_tensor].size())\n",
        "\n",
        "# Print optimizer's state_dict\n",
        "print(\"Optimizer's state_dict:\")\n",
        "for var_name in optimizer.state_dict():\n",
        "    print(var_name, \"\\t\", optimizer.state_dict()[var_name])\n",
        "    \n",
        "PATH='output/'+exp_name+'exp'+expnum+'model.pt'\n",
        "torch.save(model_in.state_dict(), PATH)\n",
        "\n",
        "###############################################################################################################################\n",
        "## UPDATE\n",
        "print(exp_name)\n",
        "tensor, tensor_d, omega=x_xd_plot_compare(data,model,size,ae=True)"
      ],
      "execution_count": 0,
      "outputs": []
    },
    {
      "metadata": {
        "id": "Iu-NeXdzMo5A",
        "colab_type": "code",
        "colab": {}
      },
      "cell_type": "code",
      "source": [
        "tensor_d_name='output/'+exp_name+'exp'+expnum+'_tensor_d'\n",
        "tensor_name='output/'+exp_name+'exp'+expnum+'_tensor'\n",
        "omega_name='output/'+exp_name+'exp'+expnum+'_omega'\n",
        "loss_filename='output/'+exp_name+'exp'+expnum+'_lossvec.csv'\n",
        "labels_filename='output/'+exp_name+'exp'+expnum+'_labels_test.csv'\n",
        "\n",
        "filenames=[tensor_name, tensor_d_name, omega_name]\n",
        "data_out=[]\n",
        "data_out.append(tensor)\n",
        "data_out.append(tensor_d)\n",
        "data_out.append(omega)\n",
        "\n",
        "for i in range(0,len(filenames)):\n",
        "    out_file=filenames[i]+'.csv'\n",
        "    export_tensor(data_out[i],out_file)\n",
        "np.savetxt(loss_filename, lossvec)\n",
        "np.savetxt(labels_filename, labels)"
      ],
      "execution_count": 0,
      "outputs": []
    },
    {
      "metadata": {
        "id": "WAGbFMTWMo5C",
        "colab_type": "text"
      },
      "cell_type": "markdown",
      "source": [
        "# Experiment"
      ]
    },
    {
      "metadata": {
        "id": "m1carJS7Mo5C",
        "colab_type": "text"
      },
      "cell_type": "markdown",
      "source": [
        "### Run Code"
      ]
    },
    {
      "metadata": {
        "id": "8ObA2h6bMo5E",
        "colab_type": "code",
        "colab": {}
      },
      "cell_type": "code",
      "source": [
        "expnum='2'\n",
        "model_in = AE_1L50D().cuda()\n",
        "#model_in =   AE_1L50D()\n",
        "print('model loaded as cuda')\n",
        "print(model_in.parameters())\n",
        "optimizer = torch.optim.Adam(model_in.parameters(), lr=LR)\n",
        "train_loss = 0\n",
        "optimizer.zero_grad()\n"
      ],
      "execution_count": 0,
      "outputs": []
    },
    {
      "metadata": {
        "code_folding": [],
        "scrolled": true,
        "id": "HpT7u0f2Mo5G",
        "colab_type": "code",
        "colab": {},
        "outputId": "b6c6a565-874e-41b4-c162-b9421bb7c2f8"
      },
      "cell_type": "code",
      "source": [
        "size=len(labels)\n",
        "start_time = time.time()\n",
        "lossvec, lossvec_cnt, model=train_AE(EPOCH,data, model_in, optimizer,size)\n",
        "\n",
        "print('--- train mins %---')\n",
        "print((time.time() - start_time)/60)\n",
        "######################################\n"
      ],
      "execution_count": 0,
      "outputs": [
        {
          "output_type": "stream",
          "text": [
            "--- train mins %---\n",
            "3.325939178466797e-05\n",
            "AE2D_100K\n"
          ],
          "name": "stdout"
        },
        {
          "output_type": "display_data",
          "data": {
            "image/png": "[encoded data removed]",
            "text/plain": [
              "<Figure size 1152x1152 with 32 Axes>"
            ]
          },
          "metadata": {
            "tags": [],
            "needs_background": "light"
          }
        }
      ]
    },
    {
      "metadata": {
        "id": "GRaxPY4JMo5I",
        "colab_type": "code",
        "colab": {}
      },
      "cell_type": "code",
      "source": [
        "# Print model's state_dict\n",
        "print(\"Model's state_dict:\")\n",
        "for param_tensor in model_in.state_dict():\n",
        "    print(param_tensor, \"\\t\", model.state_dict()[param_tensor].size())\n",
        "\n",
        "# Print optimizer's state_dict\n",
        "print(\"Optimizer's state_dict:\")\n",
        "for var_name in optimizer.state_dict():\n",
        "    print(var_name, \"\\t\", optimizer.state_dict()[var_name])\n",
        "    \n",
        "PATH='output/'+exp_name+'exp'+expnum+'model.pt'\n",
        "torch.save(model_in.state_dict(), PATH)\n",
        "\n",
        "###############################################################################################################################\n",
        "## UPDATE\n",
        "print(exp_name)\n",
        "tensor, tensor_d, omega=x_xd_plot_compare(data,model,size,ae=True)"
      ],
      "execution_count": 0,
      "outputs": []
    },
    {
      "metadata": {
        "id": "rRFDR_9PMo5K",
        "colab_type": "code",
        "colab": {},
        "outputId": "f0e4794e-080e-408a-fab7-1cf50f644daf"
      },
      "cell_type": "code",
      "source": [
        "tensor_d_name='output/'+exp_name+'exp'+expnum+'_tensor_d'\n",
        "tensor_name='output/'+exp_name+'exp'+expnum+'_tensor'\n",
        "omega_name='output/'+exp_name+'exp'+expnum+'_omega'\n",
        "loss_filename='output/'+exp_name+'exp'+expnum+'_lossvec.csv'\n",
        "labels_filename='output/'+exp_name+'exp'+expnum+'_labels_test.csv'\n",
        "\n",
        "filenames=[tensor_name, tensor_d_name, omega_name]\n",
        "data_out=[]\n",
        "data_out.append(tensor)\n",
        "data_out.append(tensor_d)\n",
        "data_out.append(omega)\n",
        "\n",
        "for i in range(0,len(filenames)):\n",
        "    out_file=filenames[i]+'.csv'\n",
        "    export_tensor(data_out[i],out_file)\n",
        "np.savetxt(loss_filename, lossvec)\n",
        "np.savetxt(labels_filename, labels)"
      ],
      "execution_count": 0,
      "outputs": [
        {
          "output_type": "error",
          "ename": "NameError",
          "evalue": "name 'exp_name' is not defined",
          "traceback": [
            "\u001b[1;31m---------------------------------------------------------------------------\u001b[0m",
            "\u001b[1;31mNameError\u001b[0m                                 Traceback (most recent call last)",
            "\u001b[1;32m<ipython-input-1-9b27433f4aa7>\u001b[0m in \u001b[0;36m<module>\u001b[1;34m()\u001b[0m\n\u001b[1;32m----> 1\u001b[1;33m \u001b[0mtensor_d_name\u001b[0m\u001b[1;33m=\u001b[0m\u001b[1;34m'output/'\u001b[0m\u001b[1;33m+\u001b[0m\u001b[0mexp_name\u001b[0m\u001b[1;33m+\u001b[0m\u001b[1;34m'exp'\u001b[0m\u001b[1;33m+\u001b[0m\u001b[0mexpnum\u001b[0m\u001b[1;33m+\u001b[0m\u001b[1;34m'_tensor_d'\u001b[0m\u001b[1;33m\u001b[0m\u001b[0m\n\u001b[0m\u001b[0;32m      2\u001b[0m \u001b[0mtensor_name\u001b[0m\u001b[1;33m=\u001b[0m\u001b[1;34m'output/'\u001b[0m\u001b[1;33m+\u001b[0m\u001b[0mexp_name\u001b[0m\u001b[1;33m+\u001b[0m\u001b[1;34m'exp'\u001b[0m\u001b[1;33m+\u001b[0m\u001b[0mexpnum\u001b[0m\u001b[1;33m+\u001b[0m\u001b[1;34m'_tensor'\u001b[0m\u001b[1;33m\u001b[0m\u001b[0m\n\u001b[0;32m      3\u001b[0m \u001b[0momega_name\u001b[0m\u001b[1;33m=\u001b[0m\u001b[1;34m'output/'\u001b[0m\u001b[1;33m+\u001b[0m\u001b[0mexp_name\u001b[0m\u001b[1;33m+\u001b[0m\u001b[1;34m'exp'\u001b[0m\u001b[1;33m+\u001b[0m\u001b[0mexpnum\u001b[0m\u001b[1;33m+\u001b[0m\u001b[1;34m'_omega'\u001b[0m\u001b[1;33m\u001b[0m\u001b[0m\n\u001b[0;32m      4\u001b[0m \u001b[0mloss_filename\u001b[0m\u001b[1;33m=\u001b[0m\u001b[1;34m'output/'\u001b[0m\u001b[1;33m+\u001b[0m\u001b[0mexp_name\u001b[0m\u001b[1;33m+\u001b[0m\u001b[1;34m'exp'\u001b[0m\u001b[1;33m+\u001b[0m\u001b[0mexpnum\u001b[0m\u001b[1;33m+\u001b[0m\u001b[1;34m'_lossvec.csv'\u001b[0m\u001b[1;33m\u001b[0m\u001b[0m\n\u001b[0;32m      5\u001b[0m \u001b[0mlabels_filename\u001b[0m\u001b[1;33m=\u001b[0m\u001b[1;34m'output/'\u001b[0m\u001b[1;33m+\u001b[0m\u001b[0mexp_name\u001b[0m\u001b[1;33m+\u001b[0m\u001b[1;34m'exp'\u001b[0m\u001b[1;33m+\u001b[0m\u001b[0mexpnum\u001b[0m\u001b[1;33m+\u001b[0m\u001b[1;34m'_labels_test.csv'\u001b[0m\u001b[1;33m\u001b[0m\u001b[0m\n",
            "\u001b[1;31mNameError\u001b[0m: name 'exp_name' is not defined"
          ]
        }
      ]
    },
    {
      "metadata": {
        "id": "vAAQxP7BMo5N",
        "colab_type": "text"
      },
      "cell_type": "markdown",
      "source": [
        "### Run Code"
      ]
    },
    {
      "metadata": {
        "id": "JmqFM4lHMo5N",
        "colab_type": "code",
        "colab": {}
      },
      "cell_type": "code",
      "source": [
        "expnum='3'\n",
        "model_in =   Decoder_2L_50D().cuda()\n",
        "#model_in =   AE_1L50D()\n",
        "print('model loaded as cuda')\n",
        "print(model_in.parameters())\n",
        "optimizer = torch.optim.Adam(model_in.parameters(), lr=LR)\n",
        "train_loss = 0\n",
        "optimizer.zero_grad()\n"
      ],
      "execution_count": 0,
      "outputs": []
    },
    {
      "metadata": {
        "code_folding": [],
        "scrolled": true,
        "id": "Do9kNGxoMo5P",
        "colab_type": "code",
        "colab": {},
        "outputId": "23491b48-ea0b-42c0-9929-3dae4bb256b4"
      },
      "cell_type": "code",
      "source": [
        "size=len(labels)\n",
        "start_time = time.time()\n",
        "lossvec, lossvec_cnt, model=train_decoder(EPOCH,data,model_in, optimizer,size) \n",
        "print('--- train mins %---')\n",
        "print((time.time() - start_time)/60)\n",
        "######################################\n",
        "\n",
        "###############################################################################################################################\n",
        "## UPDATE\n",
        "print(exp_name)\n",
        "tensor, tensor_d, omega=x_xd_plot_compare(data,model,size)\n"
      ],
      "execution_count": 0,
      "outputs": [
        {
          "output_type": "stream",
          "text": [
            "--- train mins %---\n",
            "3.325939178466797e-05\n",
            "AE2D_100K\n"
          ],
          "name": "stdout"
        },
        {
          "output_type": "display_data",
          "data": {
            "image/png": "[encoded data removed]",
            "text/plain": [
              "<Figure size 1152x1152 with 32 Axes>"
            ]
          },
          "metadata": {
            "tags": [],
            "needs_background": "light"
          }
        }
      ]
    },
    {
      "metadata": {
        "id": "c1VtU2rRMo5S",
        "colab_type": "code",
        "colab": {}
      },
      "cell_type": "code",
      "source": [
        "# Print model's state_dict\n",
        "print(\"Model's state_dict:\")\n",
        "for param_tensor in model_in.state_dict():\n",
        "    print(param_tensor, \"\\t\", model.state_dict()[param_tensor].size())\n",
        "\n",
        "# Print optimizer's state_dict\n",
        "print(\"Optimizer's state_dict:\")\n",
        "for var_name in optimizer.state_dict():\n",
        "    print(var_name, \"\\t\", optimizer.state_dict()[var_name])\n",
        "    \n",
        "PATH='output/'+exp_name+'exp'+expnum+'model.pt'\n",
        "torch.save(model_in.state_dict(), PATH)\n",
        "\n",
        "###############################################################################################################################\n",
        "## UPDATE\n",
        "print(exp_name)\n",
        "tensor, tensor_d, omega=x_xd_plot_compare(data,model,size,ae=True)"
      ],
      "execution_count": 0,
      "outputs": []
    },
    {
      "metadata": {
        "id": "vBxucu5UMo5U",
        "colab_type": "code",
        "colab": {}
      },
      "cell_type": "code",
      "source": [
        "tensor_d_name='output/'+exp_name+'exp'+expnum+'_tensor_d'\n",
        "tensor_name='output/'+exp_name+'exp'+expnum+'_tensor'\n",
        "omega_name='output/'+exp_name+'exp'+expnum+'_omega'\n",
        "loss_filename='output/'+exp_name+'exp'+expnum+'_lossvec.csv'\n",
        "labels_filename='output/'+exp_name+'exp'+expnum+'_labels_test.csv'\n",
        "\n",
        "filenames=[tensor_name, tensor_d_name, omega_name]\n",
        "data_out=[]\n",
        "data_out.append(tensor)\n",
        "data_out.append(tensor_d)\n",
        "data_out.append(omega)\n",
        "\n",
        "for i in range(0,len(filenames)):\n",
        "    out_file=filenames[i]+'.csv'\n",
        "    export_tensor(data_out[i],out_file)\n",
        "np.savetxt(loss_filename, lossvec)\n",
        "np.savetxt(labels_filename, labels)"
      ],
      "execution_count": 0,
      "outputs": []
    },
    {
      "metadata": {
        "id": "WWRLbvGTMo5W",
        "colab_type": "text"
      },
      "cell_type": "markdown",
      "source": [
        "# Experiment"
      ]
    },
    {
      "metadata": {
        "id": "j5PPxLdUMo5X",
        "colab_type": "text"
      },
      "cell_type": "markdown",
      "source": [
        "### Run Code"
      ]
    },
    {
      "metadata": {
        "id": "Fxn3OD2EMo5X",
        "colab_type": "code",
        "colab": {}
      },
      "cell_type": "code",
      "source": [
        "expnum='4'\n",
        "model_in = AE_2L50D().cuda()\n",
        "#model_in =   AE_1L50D()\n",
        "print('model loaded as cuda')\n",
        "print(model_in.parameters())\n",
        "optimizer = torch.optim.Adam(model_in.parameters(), lr=LR)\n",
        "train_loss = 0\n",
        "optimizer.zero_grad()\n"
      ],
      "execution_count": 0,
      "outputs": []
    },
    {
      "metadata": {
        "code_folding": [],
        "scrolled": true,
        "id": "vCg-PSqgMo5Y",
        "colab_type": "code",
        "colab": {},
        "outputId": "0c85b187-e35a-4b3a-e046-156aa493b549"
      },
      "cell_type": "code",
      "source": [
        "size=len(labels)\n",
        "start_time = time.time()\n",
        "lossvec, lossvec_cnt, model=train_AE(EPOCH,data, model_in, optimizer,size)\n",
        "\n",
        "print('--- train mins %---')\n",
        "print((time.time() - start_time)/60)\n",
        "######################################\n"
      ],
      "execution_count": 0,
      "outputs": [
        {
          "output_type": "stream",
          "text": [
            "--- train mins %---\n",
            "3.325939178466797e-05\n",
            "AE2D_100K\n"
          ],
          "name": "stdout"
        },
        {
          "output_type": "display_data",
          "data": {
            "image/png": "[encoded data removed]",
            "text/plain": [
              "<Figure size 1152x1152 with 32 Axes>"
            ]
          },
          "metadata": {
            "tags": [],
            "needs_background": "light"
          }
        }
      ]
    },
    {
      "metadata": {
        "id": "lvh_VumzMo5b",
        "colab_type": "code",
        "colab": {}
      },
      "cell_type": "code",
      "source": [
        "# Print model's state_dict\n",
        "print(\"Model's state_dict:\")\n",
        "for param_tensor in model_in.state_dict():\n",
        "    print(param_tensor, \"\\t\", model.state_dict()[param_tensor].size())\n",
        "\n",
        "# Print optimizer's state_dict\n",
        "print(\"Optimizer's state_dict:\")\n",
        "for var_name in optimizer.state_dict():\n",
        "    print(var_name, \"\\t\", optimizer.state_dict()[var_name])\n",
        "    \n",
        "PATH='output/'+exp_name+'exp'+expnum+'model.pt'\n",
        "torch.save(model_in.state_dict(), PATH)\n",
        "\n",
        "###############################################################################################################################\n",
        "## UPDATE\n",
        "print(exp_name)\n",
        "tensor, tensor_d, omega=x_xd_plot_compare(data,model,size,ae=True)"
      ],
      "execution_count": 0,
      "outputs": []
    },
    {
      "metadata": {
        "id": "MBg7hjhFMo5e",
        "colab_type": "code",
        "colab": {},
        "outputId": "e68bd2cf-5f53-453a-bbea-12eea47849d8"
      },
      "cell_type": "code",
      "source": [
        "tensor_d_name='output/'+exp_name+'exp'+expnum+'_tensor_d'\n",
        "tensor_name='output/'+exp_name+'exp'+expnum+'_tensor'\n",
        "omega_name='output/'+exp_name+'exp'+expnum+'_omega'\n",
        "loss_filename='output/'+exp_name+'exp'+expnum+'_lossvec.csv'\n",
        "labels_filename='output/'+exp_name+'exp'+expnum+'_labels_test.csv'\n",
        "\n",
        "filenames=[tensor_name, tensor_d_name, omega_name]\n",
        "data_out=[]\n",
        "data_out.append(tensor)\n",
        "data_out.append(tensor_d)\n",
        "data_out.append(omega)\n",
        "\n",
        "for i in range(0,len(filenames)):\n",
        "    out_file=filenames[i]+'.csv'\n",
        "    export_tensor(data_out[i],out_file)\n",
        "np.savetxt(loss_filename, lossvec)\n",
        "np.savetxt(labels_filename, labels)"
      ],
      "execution_count": 0,
      "outputs": [
        {
          "output_type": "error",
          "ename": "NameError",
          "evalue": "name 'exp_name' is not defined",
          "traceback": [
            "\u001b[1;31m---------------------------------------------------------------------------\u001b[0m",
            "\u001b[1;31mNameError\u001b[0m                                 Traceback (most recent call last)",
            "\u001b[1;32m<ipython-input-1-9b27433f4aa7>\u001b[0m in \u001b[0;36m<module>\u001b[1;34m()\u001b[0m\n\u001b[1;32m----> 1\u001b[1;33m \u001b[0mtensor_d_name\u001b[0m\u001b[1;33m=\u001b[0m\u001b[1;34m'output/'\u001b[0m\u001b[1;33m+\u001b[0m\u001b[0mexp_name\u001b[0m\u001b[1;33m+\u001b[0m\u001b[1;34m'exp'\u001b[0m\u001b[1;33m+\u001b[0m\u001b[0mexpnum\u001b[0m\u001b[1;33m+\u001b[0m\u001b[1;34m'_tensor_d'\u001b[0m\u001b[1;33m\u001b[0m\u001b[0m\n\u001b[0m\u001b[0;32m      2\u001b[0m \u001b[0mtensor_name\u001b[0m\u001b[1;33m=\u001b[0m\u001b[1;34m'output/'\u001b[0m\u001b[1;33m+\u001b[0m\u001b[0mexp_name\u001b[0m\u001b[1;33m+\u001b[0m\u001b[1;34m'exp'\u001b[0m\u001b[1;33m+\u001b[0m\u001b[0mexpnum\u001b[0m\u001b[1;33m+\u001b[0m\u001b[1;34m'_tensor'\u001b[0m\u001b[1;33m\u001b[0m\u001b[0m\n\u001b[0;32m      3\u001b[0m \u001b[0momega_name\u001b[0m\u001b[1;33m=\u001b[0m\u001b[1;34m'output/'\u001b[0m\u001b[1;33m+\u001b[0m\u001b[0mexp_name\u001b[0m\u001b[1;33m+\u001b[0m\u001b[1;34m'exp'\u001b[0m\u001b[1;33m+\u001b[0m\u001b[0mexpnum\u001b[0m\u001b[1;33m+\u001b[0m\u001b[1;34m'_omega'\u001b[0m\u001b[1;33m\u001b[0m\u001b[0m\n\u001b[0;32m      4\u001b[0m \u001b[0mloss_filename\u001b[0m\u001b[1;33m=\u001b[0m\u001b[1;34m'output/'\u001b[0m\u001b[1;33m+\u001b[0m\u001b[0mexp_name\u001b[0m\u001b[1;33m+\u001b[0m\u001b[1;34m'exp'\u001b[0m\u001b[1;33m+\u001b[0m\u001b[0mexpnum\u001b[0m\u001b[1;33m+\u001b[0m\u001b[1;34m'_lossvec.csv'\u001b[0m\u001b[1;33m\u001b[0m\u001b[0m\n\u001b[0;32m      5\u001b[0m \u001b[0mlabels_filename\u001b[0m\u001b[1;33m=\u001b[0m\u001b[1;34m'output/'\u001b[0m\u001b[1;33m+\u001b[0m\u001b[0mexp_name\u001b[0m\u001b[1;33m+\u001b[0m\u001b[1;34m'exp'\u001b[0m\u001b[1;33m+\u001b[0m\u001b[0mexpnum\u001b[0m\u001b[1;33m+\u001b[0m\u001b[1;34m'_labels_test.csv'\u001b[0m\u001b[1;33m\u001b[0m\u001b[0m\n",
            "\u001b[1;31mNameError\u001b[0m: name 'exp_name' is not defined"
          ]
        }
      ]
    },
    {
      "metadata": {
        "id": "0Zh2f02OMo5g",
        "colab_type": "text"
      },
      "cell_type": "markdown",
      "source": [
        "### Run Code"
      ]
    },
    {
      "metadata": {
        "id": "wwBeaU72Mo5h",
        "colab_type": "code",
        "colab": {}
      },
      "cell_type": "code",
      "source": [
        "expnum='5'\n",
        "model_in =   Decoder_3L_50D().cuda()\n",
        "#model_in =   AE_1L50D()\n",
        "print('model loaded as cuda')\n",
        "print(model_in.parameters())\n",
        "optimizer = torch.optim.Adam(model_in.parameters(), lr=LR)\n",
        "train_loss = 0\n",
        "optimizer.zero_grad()\n"
      ],
      "execution_count": 0,
      "outputs": []
    },
    {
      "metadata": {
        "code_folding": [],
        "scrolled": true,
        "id": "cnK0K2ylMo5j",
        "colab_type": "code",
        "colab": {},
        "outputId": "cbaeba13-14fb-4115-95c6-03c73cecc805"
      },
      "cell_type": "code",
      "source": [
        "size=len(labels)\n",
        "start_time = time.time()\n",
        "lossvec, lossvec_cnt, model=train_decoder(EPOCH,data,model_in, optimizer,size) \n",
        "print('--- train mins %---')\n",
        "print((time.time() - start_time)/60)\n",
        "######################################\n",
        "\n",
        "###############################################################################################################################\n",
        "## UPDATE\n",
        "print(exp_name)\n",
        "tensor, tensor_d, omega=x_xd_plot_compare(data,model,size)\n"
      ],
      "execution_count": 0,
      "outputs": [
        {
          "output_type": "stream",
          "text": [
            "--- train mins %---\n",
            "3.325939178466797e-05\n",
            "AE2D_100K\n"
          ],
          "name": "stdout"
        },
        {
          "output_type": "display_data",
          "data": {
            "image/png": "[encoded data removed]",
            "text/plain": [
              "<Figure size 1152x1152 with 32 Axes>"
            ]
          },
          "metadata": {
            "tags": [],
            "needs_background": "light"
          }
        }
      ]
    },
    {
      "metadata": {
        "id": "lL_QW6leMo5m",
        "colab_type": "code",
        "colab": {}
      },
      "cell_type": "code",
      "source": [
        "# Print model's state_dict\n",
        "print(\"Model's state_dict:\")\n",
        "for param_tensor in model_in.state_dict():\n",
        "    print(param_tensor, \"\\t\", model.state_dict()[param_tensor].size())\n",
        "\n",
        "# Print optimizer's state_dict\n",
        "print(\"Optimizer's state_dict:\")\n",
        "for var_name in optimizer.state_dict():\n",
        "    print(var_name, \"\\t\", optimizer.state_dict()[var_name])\n",
        "    \n",
        "PATH='output/'+exp_name+'exp'+expnum+'model.pt'\n",
        "torch.save(model_in.state_dict(), PATH)\n",
        "\n",
        "###############################################################################################################################\n",
        "## UPDATE\n",
        "print(exp_name)\n",
        "tensor, tensor_d, omega=x_xd_plot_compare(data,model,size,ae=True)"
      ],
      "execution_count": 0,
      "outputs": []
    },
    {
      "metadata": {
        "id": "Vy_AsldKMo5n",
        "colab_type": "code",
        "colab": {}
      },
      "cell_type": "code",
      "source": [
        "tensor_d_name='output/'+exp_name+'exp'+expnum+'_tensor_d'\n",
        "tensor_name='output/'+exp_name+'exp'+expnum+'_tensor'\n",
        "omega_name='output/'+exp_name+'exp'+expnum+'_omega'\n",
        "loss_filename='output/'+exp_name+'exp'+expnum+'_lossvec.csv'\n",
        "labels_filename='output/'+exp_name+'exp'+expnum+'_labels_test.csv'\n",
        "\n",
        "filenames=[tensor_name, tensor_d_name, omega_name]\n",
        "data_out=[]\n",
        "data_out.append(tensor)\n",
        "data_out.append(tensor_d)\n",
        "data_out.append(omega)\n",
        "\n",
        "for i in range(0,len(filenames)):\n",
        "    out_file=filenames[i]+'.csv'\n",
        "    export_tensor(data_out[i],out_file)\n",
        "np.savetxt(loss_filename, lossvec)\n",
        "np.savetxt(labels_filename, labels)"
      ],
      "execution_count": 0,
      "outputs": []
    },
    {
      "metadata": {
        "id": "h4POOnmgMo5o",
        "colab_type": "text"
      },
      "cell_type": "markdown",
      "source": [
        "# Experiment"
      ]
    },
    {
      "metadata": {
        "id": "XkPl-_KwMo5p",
        "colab_type": "text"
      },
      "cell_type": "markdown",
      "source": [
        "### Run Code"
      ]
    },
    {
      "metadata": {
        "id": "nvpSZ5trMo5p",
        "colab_type": "code",
        "colab": {}
      },
      "cell_type": "code",
      "source": [
        "expnum='6'\n",
        "model_in = AE_3L50D().cuda()\n",
        "#model_in =   AE_1L50D()\n",
        "print('model loaded as cuda')\n",
        "print(model_in.parameters())\n",
        "optimizer = torch.optim.Adam(model_in.parameters(), lr=LR)\n",
        "train_loss = 0\n",
        "optimizer.zero_grad()\n"
      ],
      "execution_count": 0,
      "outputs": []
    },
    {
      "metadata": {
        "code_folding": [],
        "scrolled": true,
        "id": "dtlvzc7EMo5q",
        "colab_type": "code",
        "colab": {},
        "outputId": "17d8f3e7-c172-4bb9-f3b5-7953a89cb000"
      },
      "cell_type": "code",
      "source": [
        "size=len(labels)\n",
        "start_time = time.time()\n",
        "lossvec, lossvec_cnt, model=train_AE(EPOCH,data, model_in, optimizer,size)\n",
        "\n",
        "print('--- train mins %---')\n",
        "print((time.time() - start_time)/60)\n",
        "######################################\n"
      ],
      "execution_count": 0,
      "outputs": [
        {
          "output_type": "stream",
          "text": [
            "--- train mins %---\n",
            "3.325939178466797e-05\n",
            "AE2D_100K\n"
          ],
          "name": "stdout"
        },
        {
          "output_type": "display_data",
          "data": {
            "image/png": "[encoded data removed]",
            "text/plain": [
              "<Figure size 1152x1152 with 32 Axes>"
            ]
          },
          "metadata": {
            "tags": [],
            "needs_background": "light"
          }
        }
      ]
    },
    {
      "metadata": {
        "id": "wAtodvEbMo5s",
        "colab_type": "code",
        "colab": {}
      },
      "cell_type": "code",
      "source": [
        "# Print model's state_dict\n",
        "print(\"Model's state_dict:\")\n",
        "for param_tensor in model_in.state_dict():\n",
        "    print(param_tensor, \"\\t\", model.state_dict()[param_tensor].size())\n",
        "\n",
        "# Print optimizer's state_dict\n",
        "print(\"Optimizer's state_dict:\")\n",
        "for var_name in optimizer.state_dict():\n",
        "    print(var_name, \"\\t\", optimizer.state_dict()[var_name])\n",
        "    \n",
        "PATH='output/'+exp_name+'exp'+expnum+'model.pt'\n",
        "torch.save(model_in.state_dict(), PATH)\n",
        "\n",
        "###############################################################################################################################\n",
        "## UPDATE\n",
        "print(exp_name)\n",
        "tensor, tensor_d, omega=x_xd_plot_compare(data,model,size,ae=True)"
      ],
      "execution_count": 0,
      "outputs": []
    },
    {
      "metadata": {
        "id": "gI5lFI6yMo5v",
        "colab_type": "code",
        "colab": {},
        "outputId": "6d724aed-76df-480e-9a6e-d28ae332c149"
      },
      "cell_type": "code",
      "source": [
        "tensor_d_name='output/'+exp_name+'exp'+expnum+'_tensor_d'\n",
        "tensor_name='output/'+exp_name+'exp'+expnum+'_tensor'\n",
        "omega_name='output/'+exp_name+'exp'+expnum+'_omega'\n",
        "loss_filename='output/'+exp_name+'exp'+expnum+'_lossvec.csv'\n",
        "labels_filename='output/'+exp_name+'exp'+expnum+'_labels_test.csv'\n",
        "\n",
        "filenames=[tensor_name, tensor_d_name, omega_name]\n",
        "data_out=[]\n",
        "data_out.append(tensor)\n",
        "data_out.append(tensor_d)\n",
        "data_out.append(omega)\n",
        "\n",
        "for i in range(0,len(filenames)):\n",
        "    out_file=filenames[i]+'.csv'\n",
        "    export_tensor(data_out[i],out_file)\n",
        "np.savetxt(loss_filename, lossvec)\n",
        "np.savetxt(labels_filename, labels)"
      ],
      "execution_count": 0,
      "outputs": [
        {
          "output_type": "error",
          "ename": "NameError",
          "evalue": "name 'exp_name' is not defined",
          "traceback": [
            "\u001b[1;31m---------------------------------------------------------------------------\u001b[0m",
            "\u001b[1;31mNameError\u001b[0m                                 Traceback (most recent call last)",
            "\u001b[1;32m<ipython-input-1-9b27433f4aa7>\u001b[0m in \u001b[0;36m<module>\u001b[1;34m()\u001b[0m\n\u001b[1;32m----> 1\u001b[1;33m \u001b[0mtensor_d_name\u001b[0m\u001b[1;33m=\u001b[0m\u001b[1;34m'output/'\u001b[0m\u001b[1;33m+\u001b[0m\u001b[0mexp_name\u001b[0m\u001b[1;33m+\u001b[0m\u001b[1;34m'exp'\u001b[0m\u001b[1;33m+\u001b[0m\u001b[0mexpnum\u001b[0m\u001b[1;33m+\u001b[0m\u001b[1;34m'_tensor_d'\u001b[0m\u001b[1;33m\u001b[0m\u001b[0m\n\u001b[0m\u001b[0;32m      2\u001b[0m \u001b[0mtensor_name\u001b[0m\u001b[1;33m=\u001b[0m\u001b[1;34m'output/'\u001b[0m\u001b[1;33m+\u001b[0m\u001b[0mexp_name\u001b[0m\u001b[1;33m+\u001b[0m\u001b[1;34m'exp'\u001b[0m\u001b[1;33m+\u001b[0m\u001b[0mexpnum\u001b[0m\u001b[1;33m+\u001b[0m\u001b[1;34m'_tensor'\u001b[0m\u001b[1;33m\u001b[0m\u001b[0m\n\u001b[0;32m      3\u001b[0m \u001b[0momega_name\u001b[0m\u001b[1;33m=\u001b[0m\u001b[1;34m'output/'\u001b[0m\u001b[1;33m+\u001b[0m\u001b[0mexp_name\u001b[0m\u001b[1;33m+\u001b[0m\u001b[1;34m'exp'\u001b[0m\u001b[1;33m+\u001b[0m\u001b[0mexpnum\u001b[0m\u001b[1;33m+\u001b[0m\u001b[1;34m'_omega'\u001b[0m\u001b[1;33m\u001b[0m\u001b[0m\n\u001b[0;32m      4\u001b[0m \u001b[0mloss_filename\u001b[0m\u001b[1;33m=\u001b[0m\u001b[1;34m'output/'\u001b[0m\u001b[1;33m+\u001b[0m\u001b[0mexp_name\u001b[0m\u001b[1;33m+\u001b[0m\u001b[1;34m'exp'\u001b[0m\u001b[1;33m+\u001b[0m\u001b[0mexpnum\u001b[0m\u001b[1;33m+\u001b[0m\u001b[1;34m'_lossvec.csv'\u001b[0m\u001b[1;33m\u001b[0m\u001b[0m\n\u001b[0;32m      5\u001b[0m \u001b[0mlabels_filename\u001b[0m\u001b[1;33m=\u001b[0m\u001b[1;34m'output/'\u001b[0m\u001b[1;33m+\u001b[0m\u001b[0mexp_name\u001b[0m\u001b[1;33m+\u001b[0m\u001b[1;34m'exp'\u001b[0m\u001b[1;33m+\u001b[0m\u001b[0mexpnum\u001b[0m\u001b[1;33m+\u001b[0m\u001b[1;34m'_labels_test.csv'\u001b[0m\u001b[1;33m\u001b[0m\u001b[0m\n",
            "\u001b[1;31mNameError\u001b[0m: name 'exp_name' is not defined"
          ]
        }
      ]
    },
    {
      "metadata": {
        "id": "3MAyuITcMo5z",
        "colab_type": "text"
      },
      "cell_type": "markdown",
      "source": [
        "### Run Code"
      ]
    },
    {
      "metadata": {
        "id": "P0c6P1gnMo5z",
        "colab_type": "code",
        "colab": {}
      },
      "cell_type": "code",
      "source": [
        "expnum='7'\n",
        "model_in =   Decoder_4L_50D().cuda()\n",
        "#model_in =   AE_1L50D()\n",
        "print('model loaded as cuda')\n",
        "print(model_in.parameters())\n",
        "optimizer = torch.optim.Adam(model_in.parameters(), lr=LR)\n",
        "train_loss = 0\n",
        "optimizer.zero_grad()\n"
      ],
      "execution_count": 0,
      "outputs": []
    },
    {
      "metadata": {
        "code_folding": [],
        "scrolled": true,
        "id": "ccg4JbTIMo51",
        "colab_type": "code",
        "colab": {},
        "outputId": "1a9d39fc-0093-4229-b1bd-199a454edfb4"
      },
      "cell_type": "code",
      "source": [
        "size=len(labels)\n",
        "start_time = time.time()\n",
        "lossvec, lossvec_cnt, model=train_decoder(EPOCH,data,model_in, optimizer,size) \n",
        "print('--- train mins %---')\n",
        "print((time.time() - start_time)/60)\n",
        "######################################\n",
        "\n",
        "###############################################################################################################################\n",
        "## UPDATE\n",
        "print(exp_name)\n",
        "tensor, tensor_d, omega=x_xd_plot_compare(data,model,size)\n"
      ],
      "execution_count": 0,
      "outputs": [
        {
          "output_type": "stream",
          "text": [
            "--- train mins %---\n",
            "3.325939178466797e-05\n",
            "AE2D_100K\n"
          ],
          "name": "stdout"
        },
        {
          "output_type": "display_data",
          "data": {
            "image/png": "[encoded data removed]",
            "text/plain": [
              "<Figure size 1152x1152 with 32 Axes>"
            ]
          },
          "metadata": {
            "tags": [],
            "needs_background": "light"
          }
        }
      ]
    },
    {
      "metadata": {
        "id": "R2PICAegMo55",
        "colab_type": "code",
        "colab": {}
      },
      "cell_type": "code",
      "source": [
        "# Print model's state_dict\n",
        "print(\"Model's state_dict:\")\n",
        "for param_tensor in model_in.state_dict():\n",
        "    print(param_tensor, \"\\t\", model.state_dict()[param_tensor].size())\n",
        "\n",
        "# Print optimizer's state_dict\n",
        "print(\"Optimizer's state_dict:\")\n",
        "for var_name in optimizer.state_dict():\n",
        "    print(var_name, \"\\t\", optimizer.state_dict()[var_name])\n",
        "    \n",
        "PATH='output/'+exp_name+'exp'+expnum+'model.pt'\n",
        "torch.save(model_in.state_dict(), PATH)\n",
        "\n",
        "###############################################################################################################################\n",
        "## UPDATE\n",
        "print(exp_name)\n",
        "tensor, tensor_d, omega=x_xd_plot_compare(data,model,size,ae=True)"
      ],
      "execution_count": 0,
      "outputs": []
    },
    {
      "metadata": {
        "id": "K6bRbs_rMo56",
        "colab_type": "code",
        "colab": {}
      },
      "cell_type": "code",
      "source": [
        "tensor_d_name='output/'+exp_name+'exp'+expnum+'_tensor_d'\n",
        "tensor_name='output/'+exp_name+'exp'+expnum+'_tensor'\n",
        "omega_name='output/'+exp_name+'exp'+expnum+'_omega'\n",
        "loss_filename='output/'+exp_name+'exp'+expnum+'_lossvec.csv'\n",
        "labels_filename='output/'+exp_name+'exp'+expnum+'_labels_test.csv'\n",
        "\n",
        "filenames=[tensor_name, tensor_d_name, omega_name]\n",
        "data_out=[]\n",
        "data_out.append(tensor)\n",
        "data_out.append(tensor_d)\n",
        "data_out.append(omega)\n",
        "\n",
        "for i in range(0,len(filenames)):\n",
        "    out_file=filenames[i]+'.csv'\n",
        "    export_tensor(data_out[i],out_file)\n",
        "np.savetxt(loss_filename, lossvec)\n",
        "np.savetxt(labels_filename, labels)"
      ],
      "execution_count": 0,
      "outputs": []
    },
    {
      "metadata": {
        "id": "SANKXrKOMo58",
        "colab_type": "text"
      },
      "cell_type": "markdown",
      "source": [
        "# Experiment"
      ]
    },
    {
      "metadata": {
        "id": "Nt3ponU6Mo58",
        "colab_type": "text"
      },
      "cell_type": "markdown",
      "source": [
        "### Run Code"
      ]
    },
    {
      "metadata": {
        "id": "8QChbvWFMo58",
        "colab_type": "code",
        "colab": {
          "base_uri": "https://localhost:8080/",
          "height": 52
        },
        "outputId": "344c01dc-6dcb-4f62-8035-9515164d12d1"
      },
      "cell_type": "code",
      "source": [
        "expnum='8'\n",
        "model_in = AE_4L50D().cuda()\n",
        "#model_in =   AE_1L50D()\n",
        "print('model loaded as cuda')\n",
        "print(model_in.parameters())\n",
        "optimizer = torch.optim.Adam(model_in.parameters(), lr=LR)\n",
        "train_loss = 0\n",
        "optimizer.zero_grad()\n"
      ],
      "execution_count": 46,
      "outputs": [
        {
          "output_type": "stream",
          "text": [
            "model loaded as cuda\n",
            "<generator object Module.parameters at 0x7f5141d83990>\n"
          ],
          "name": "stdout"
        }
      ]
    },
    {
      "metadata": {
        "code_folding": [],
        "scrolled": true,
        "id": "pcyuINEuMo5-",
        "colab_type": "code",
        "colab": {
          "base_uri": "https://localhost:8080/",
          "height": 265
        },
        "outputId": "078f47d1-a8c9-4915-87eb-3925d8b1b3d0"
      },
      "cell_type": "code",
      "source": [
        "size=len(labels)\n",
        "start_time = time.time()\n",
        "lossvec, lossvec_cnt, model=train_AE(EPOCH,data, model_in, optimizer,size)\n",
        "\n",
        "print('--- train mins %---')\n",
        "print((time.time() - start_time)/60)\n",
        "######################################\n"
      ],
      "execution_count": 0,
      "outputs": [
        {
          "output_type": "stream",
          "text": [
            "10000\n",
            "20000\n",
            "30000\n",
            "40000\n",
            "50000\n",
            "60000\n",
            "70000\n",
            "80000\n",
            "90000\n",
            "100000\n",
            "110000\n",
            "120000\n",
            "130000\n",
            "140000\n"
          ],
          "name": "stdout"
        }
      ]
    },
    {
      "metadata": {
        "id": "gQJHl6TcMo5_",
        "colab_type": "code",
        "colab": {}
      },
      "cell_type": "code",
      "source": [
        "# Print model's state_dict\n",
        "print(\"Model's state_dict:\")\n",
        "for param_tensor in model_in.state_dict():\n",
        "    print(param_tensor, \"\\t\", model.state_dict()[param_tensor].size())\n",
        "\n",
        "# Print optimizer's state_dict\n",
        "print(\"Optimizer's state_dict:\")\n",
        "for var_name in optimizer.state_dict():\n",
        "    print(var_name, \"\\t\", optimizer.state_dict()[var_name])\n",
        "    \n",
        "PATH='output/'+exp_name+'exp'+expnum+'model.pt'\n",
        "torch.save(model_in.state_dict(), PATH)\n",
        "\n",
        "###############################################################################################################################\n",
        "## UPDATE\n",
        "print(exp_name)\n",
        "tensor, tensor_d, omega=x_xd_plot_compare(data,model,size,ae=True)"
      ],
      "execution_count": 0,
      "outputs": []
    },
    {
      "metadata": {
        "id": "o6o7wOHYMo6A",
        "colab_type": "code",
        "colab": {},
        "outputId": "65423740-43bd-44ac-88f5-114141d9ff2f"
      },
      "cell_type": "code",
      "source": [
        "tensor_d_name='output/'+exp_name+'exp'+expnum+'_tensor_d'\n",
        "tensor_name='output/'+exp_name+'exp'+expnum+'_tensor'\n",
        "omega_name='output/'+exp_name+'exp'+expnum+'_omega'\n",
        "loss_filename='output/'+exp_name+'exp'+expnum+'_lossvec.csv'\n",
        "labels_filename='output/'+exp_name+'exp'+expnum+'_labels_test.csv'\n",
        "\n",
        "filenames=[tensor_name, tensor_d_name, omega_name]\n",
        "data_out=[]\n",
        "data_out.append(tensor)\n",
        "data_out.append(tensor_d)\n",
        "data_out.append(omega)\n",
        "\n",
        "for i in range(0,len(filenames)):\n",
        "    out_file=filenames[i]+'.csv'\n",
        "    export_tensor(data_out[i],out_file)\n",
        "np.savetxt(loss_filename, lossvec)\n",
        "np.savetxt(labels_filename, labels)"
      ],
      "execution_count": 0,
      "outputs": [
        {
          "output_type": "error",
          "ename": "NameError",
          "evalue": "name 'exp_name' is not defined",
          "traceback": [
            "\u001b[1;31m---------------------------------------------------------------------------\u001b[0m",
            "\u001b[1;31mNameError\u001b[0m                                 Traceback (most recent call last)",
            "\u001b[1;32m<ipython-input-1-9b27433f4aa7>\u001b[0m in \u001b[0;36m<module>\u001b[1;34m()\u001b[0m\n\u001b[1;32m----> 1\u001b[1;33m \u001b[0mtensor_d_name\u001b[0m\u001b[1;33m=\u001b[0m\u001b[1;34m'output/'\u001b[0m\u001b[1;33m+\u001b[0m\u001b[0mexp_name\u001b[0m\u001b[1;33m+\u001b[0m\u001b[1;34m'exp'\u001b[0m\u001b[1;33m+\u001b[0m\u001b[0mexpnum\u001b[0m\u001b[1;33m+\u001b[0m\u001b[1;34m'_tensor_d'\u001b[0m\u001b[1;33m\u001b[0m\u001b[0m\n\u001b[0m\u001b[0;32m      2\u001b[0m \u001b[0mtensor_name\u001b[0m\u001b[1;33m=\u001b[0m\u001b[1;34m'output/'\u001b[0m\u001b[1;33m+\u001b[0m\u001b[0mexp_name\u001b[0m\u001b[1;33m+\u001b[0m\u001b[1;34m'exp'\u001b[0m\u001b[1;33m+\u001b[0m\u001b[0mexpnum\u001b[0m\u001b[1;33m+\u001b[0m\u001b[1;34m'_tensor'\u001b[0m\u001b[1;33m\u001b[0m\u001b[0m\n\u001b[0;32m      3\u001b[0m \u001b[0momega_name\u001b[0m\u001b[1;33m=\u001b[0m\u001b[1;34m'output/'\u001b[0m\u001b[1;33m+\u001b[0m\u001b[0mexp_name\u001b[0m\u001b[1;33m+\u001b[0m\u001b[1;34m'exp'\u001b[0m\u001b[1;33m+\u001b[0m\u001b[0mexpnum\u001b[0m\u001b[1;33m+\u001b[0m\u001b[1;34m'_omega'\u001b[0m\u001b[1;33m\u001b[0m\u001b[0m\n\u001b[0;32m      4\u001b[0m \u001b[0mloss_filename\u001b[0m\u001b[1;33m=\u001b[0m\u001b[1;34m'output/'\u001b[0m\u001b[1;33m+\u001b[0m\u001b[0mexp_name\u001b[0m\u001b[1;33m+\u001b[0m\u001b[1;34m'exp'\u001b[0m\u001b[1;33m+\u001b[0m\u001b[0mexpnum\u001b[0m\u001b[1;33m+\u001b[0m\u001b[1;34m'_lossvec.csv'\u001b[0m\u001b[1;33m\u001b[0m\u001b[0m\n\u001b[0;32m      5\u001b[0m \u001b[0mlabels_filename\u001b[0m\u001b[1;33m=\u001b[0m\u001b[1;34m'output/'\u001b[0m\u001b[1;33m+\u001b[0m\u001b[0mexp_name\u001b[0m\u001b[1;33m+\u001b[0m\u001b[1;34m'exp'\u001b[0m\u001b[1;33m+\u001b[0m\u001b[0mexpnum\u001b[0m\u001b[1;33m+\u001b[0m\u001b[1;34m'_labels_test.csv'\u001b[0m\u001b[1;33m\u001b[0m\u001b[0m\n",
            "\u001b[1;31mNameError\u001b[0m: name 'exp_name' is not defined"
          ]
        }
      ]
    }
  ]
}